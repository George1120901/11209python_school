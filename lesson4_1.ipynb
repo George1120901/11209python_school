{
 "cells": [
  {
   "cell_type": "code",
   "execution_count": 1,
   "metadata": {},
   "outputs": [
    {
     "name": "stdout",
     "output_type": "stream",
     "text": [
      "hello Python\n"
     ]
    }
   ],
   "source": [
    "print(\"hello Python\")\n"
   ]
  },
  {
   "cell_type": "code",
   "execution_count": 4,
   "metadata": {},
   "outputs": [
    {
     "data": {
      "text/plain": [
       "True"
      ]
     },
     "execution_count": 4,
     "metadata": {},
     "output_type": "execute_result"
    }
   ],
   "source": [
    "'Hello! Python!' #str\n",
    "30 #int\n",
    "30.0 #float\n",
    "True #bool"
   ]
  },
  {
   "cell_type": "code",
   "execution_count": 5,
   "metadata": {},
   "outputs": [
    {
     "name": "stdout",
     "output_type": "stream",
     "text": [
      "Hello! Python!\n",
      "30\n",
      "30.0\n",
      "True\n"
     ]
    }
   ],
   "source": [
    "#built-in function -> print()\n",
    "\n",
    "print('Hello! Python!')\n",
    "print(30)\n",
    "print(30.0)\n",
    "print(True)"
   ]
  },
  {
   "cell_type": "code",
   "execution_count": 6,
   "metadata": {},
   "outputs": [
    {
     "name": "stdout",
     "output_type": "stream",
     "text": [
      "13\n",
      "80\n",
      "28\n",
      "3.0\n",
      "3\n",
      "1\n",
      "980188864829534682605802224588165892518744500843860189980001\n"
     ]
    }
   ],
   "source": [
    "#整數運算\n",
    "\n",
    "print(5 + 8)\n",
    "print(90 - 10)\n",
    "print(4 * 7)\n",
    "print(6 / 2)\n",
    "print(7 // 2)\n",
    "print(7 % 3)\n",
    "print(999 ** 20)"
   ]
  },
  {
   "cell_type": "code",
   "execution_count": 7,
   "metadata": {},
   "outputs": [
    {
     "name": "stdout",
     "output_type": "stream",
     "text": [
      "13.0\n",
      "23.0\n",
      "21.0\n",
      "10\n"
     ]
    }
   ],
   "source": [
    "#浮點數和整數運算\n",
    "#float+int\n",
    "print(5.0 + 8)\n",
    "print(5.0 + 8 + 10)\n",
    "print(5.0 + 8 * 2)\n",
    "print(2 * (1 + 2) ** 2 - 2 ** 2 * 2)"
   ]
  },
  {
   "cell_type": "code",
   "execution_count": 8,
   "metadata": {},
   "outputs": [
    {
     "data": {
      "text/plain": [
       "'abcefg'"
      ]
     },
     "execution_count": 8,
     "metadata": {},
     "output_type": "execute_result"
    }
   ],
   "source": [
    "#字串的加法運算\n",
    "\n",
    "\"abc\" + \"efg\""
   ]
  },
  {
   "cell_type": "code",
   "execution_count": 15,
   "metadata": {},
   "outputs": [
    {
     "ename": "TypeError",
     "evalue": "can only concatenate str (not \"int\") to str",
     "output_type": "error",
     "traceback": [
      "\u001b[1;31m---------------------------------------------------------------------------\u001b[0m",
      "\u001b[1;31mTypeError\u001b[0m                                 Traceback (most recent call last)",
      "Cell \u001b[1;32mIn[15], line 3\u001b[0m\n\u001b[0;32m      1\u001b[0m \u001b[39m#字串+數值 -> 出錯\u001b[39;00m\n\u001b[1;32m----> 3\u001b[0m \u001b[39m\"\u001b[39;49m\u001b[39mabc\u001b[39;49m\u001b[39m\"\u001b[39;49m \u001b[39m+\u001b[39;49m \u001b[39m13\u001b[39;49m\n\u001b[0;32m      5\u001b[0m \u001b[39m#字串+數值 -> 出錯\u001b[39;00m\n\u001b[0;32m      6\u001b[0m \u001b[39m\"\u001b[39m\u001b[39mabc\u001b[39m\u001b[39m\"\u001b[39m \u001b[39m+\u001b[39m \u001b[39m\"\u001b[39m\u001b[39m13\u001b[39m\u001b[39m\"\u001b[39m\n",
      "\u001b[1;31mTypeError\u001b[0m: can only concatenate str (not \"int\") to str"
     ]
    }
   ],
   "source": [
    "#字串+數值 -> 出錯\n",
    "\n",
    "\"abc\" + 13\n",
    "\n",
    "#字串+\"數值\" -> 手動改變資料類型\n",
    "\"abc\" + \"13\""
   ]
  },
  {
   "cell_type": "code",
   "execution_count": 12,
   "metadata": {},
   "outputs": [
    {
     "data": {
      "text/plain": [
       "'abc13'"
      ]
     },
     "execution_count": 12,
     "metadata": {},
     "output_type": "execute_result"
    }
   ],
   "source": [
    "#str() -> 轉為字串\n",
    "#手動改變資料類型\n",
    "\"abc\" + str(13)"
   ]
  },
  {
   "cell_type": "code",
   "execution_count": 13,
   "metadata": {},
   "outputs": [
    {
     "data": {
      "text/plain": [
       "38"
      ]
     },
     "execution_count": 13,
     "metadata": {},
     "output_type": "execute_result"
    }
   ],
   "source": [
    "#int() -> 轉為整數\n",
    "\n",
    "int(\"13\") + int(\"25\")"
   ]
  },
  {
   "cell_type": "code",
   "execution_count": 14,
   "metadata": {},
   "outputs": [
    {
     "data": {
      "text/plain": [
       "35.2"
      ]
     },
     "execution_count": 14,
     "metadata": {},
     "output_type": "execute_result"
    }
   ],
   "source": [
    "#float() -> 轉為浮點數\n",
    "\n",
    "float(\"13.5\") + float(\"21.7\")\n"
   ]
  },
  {
   "cell_type": "code",
   "execution_count": 17,
   "metadata": {},
   "outputs": [
    {
     "name": "stdout",
     "output_type": "stream",
     "text": [
      "14\n"
     ]
    }
   ],
   "source": [
    "#建立變數\n",
    "\n",
    "n1=2+3*4 #=不會傳出值\n",
    "n1 # or 寫成print(n1)"
   ]
  },
  {
   "cell_type": "code",
   "execution_count": null,
   "metadata": {},
   "outputs": [],
   "source": []
  }
 ],
 "metadata": {
  "kernelspec": {
   "display_name": ".venv",
   "language": "python",
   "name": "python3"
  },
  "language_info": {
   "codemirror_mode": {
    "name": "ipython",
    "version": 3
   },
   "file_extension": ".py",
   "mimetype": "text/x-python",
   "name": "python",
   "nbconvert_exporter": "python",
   "pygments_lexer": "ipython3",
   "version": "3.10.8"
  },
  "orig_nbformat": 4
 },
 "nbformat": 4,
 "nbformat_minor": 2
}
