{
 "cells": [
  {
   "cell_type": "code",
   "execution_count": 1,
   "metadata": {},
   "outputs": [
    {
     "data": {
      "text/plain": [
       "(3.5, 3, 1, 81)"
      ]
     },
     "execution_count": 1,
     "metadata": {},
     "output_type": "execute_result"
    }
   ],
   "source": [
    "7/2,7//2,7%3,3**4"
   ]
  },
  {
   "cell_type": "code",
   "execution_count": 2,
   "metadata": {},
   "outputs": [
    {
     "data": {
      "text/plain": [
       "(3.5, 3, 1, 81)"
      ]
     },
     "execution_count": 2,
     "metadata": {},
     "output_type": "execute_result"
    }
   ],
   "source": [
    "(7/2,7//2,7%3,3**4)"
   ]
  },
  {
   "cell_type": "code",
   "execution_count": 3,
   "metadata": {},
   "outputs": [
    {
     "data": {
      "text/plain": [
       "tuple"
      ]
     },
     "execution_count": 3,
     "metadata": {},
     "output_type": "execute_result"
    }
   ],
   "source": [
    "n1=5\n",
    "n1=5.0\n",
    "n1='5.0'\n",
    "n1=True\n",
    "n1=5,5.0,'5.0'\n",
    "type(n1)"
   ]
  },
  {
   "cell_type": "code",
   "execution_count": 5,
   "metadata": {},
   "outputs": [
    {
     "name": "stdout",
     "output_type": "stream",
     "text": [
      "keyin int\n"
     ]
    },
    {
     "data": {
      "text/plain": [
       "'50'"
      ]
     },
     "execution_count": 5,
     "metadata": {},
     "output_type": "execute_result"
    }
   ],
   "source": [
    "print(\"keyin int\")\n",
    "input()"
   ]
  },
  {
   "cell_type": "code",
   "execution_count": 6,
   "metadata": {},
   "outputs": [
    {
     "data": {
      "text/plain": [
       "'50100'"
      ]
     },
     "execution_count": 6,
     "metadata": {},
     "output_type": "execute_result"
    }
   ],
   "source": [
    "'50'+'100'"
   ]
  },
  {
   "cell_type": "code",
   "execution_count": 7,
   "metadata": {},
   "outputs": [
    {
     "data": {
      "text/plain": [
       "150"
      ]
     },
     "execution_count": 7,
     "metadata": {},
     "output_type": "execute_result"
    }
   ],
   "source": [
    "int('50')+int('100')"
   ]
  },
  {
   "cell_type": "code",
   "execution_count": 9,
   "metadata": {},
   "outputs": [
    {
     "data": {
      "text/plain": [
       "int"
      ]
     },
     "execution_count": 9,
     "metadata": {},
     "output_type": "execute_result"
    }
   ],
   "source": [
    "n1=int(input('keyin int'))\n",
    "type(n1)"
   ]
  },
  {
   "cell_type": "code",
   "execution_count": 11,
   "metadata": {},
   "outputs": [
    {
     "data": {
      "text/plain": [
       "30"
      ]
     },
     "execution_count": 11,
     "metadata": {},
     "output_type": "execute_result"
    }
   ],
   "source": [
    "n=10\n",
    "n+=20\n",
    "n"
   ]
  },
  {
   "cell_type": "code",
   "execution_count": 27,
   "metadata": {},
   "outputs": [
    {
     "name": "stdout",
     "output_type": "stream",
     "text": [
      "230.0\n"
     ]
    }
   ],
   "source": [
    "total=0\n",
    "keyin=float(input('請keyin 第1個float數字')) #50.0\n",
    "total+=keyin\n",
    "keyin=float(input('請keyin 第2個float數字'))  #100.0\n",
    "total+=keyin\n",
    "keyin=float(input('請keyin 第3個float數字')) #80.0\n",
    "total+=keyin\n",
    "print(total)\n"
   ]
  },
  {
   "cell_type": "code",
   "execution_count": 28,
   "metadata": {},
   "outputs": [
    {
     "name": "stdout",
     "output_type": "stream",
     "text": [
      "230.0\n"
     ]
    }
   ],
   "source": [
    "total=0\n",
    "total+=float(input('請keyin 第1個float數字')) #50.0\n",
    "total+=float(input('請keyin 第2個float數字')) #100.0\n",
    "total+=float(input('請keyin 第3個float數字')) #80.0\n",
    "print(total)"
   ]
  },
  {
   "cell_type": "code",
   "execution_count": 23,
   "metadata": {},
   "outputs": [
    {
     "name": "stdout",
     "output_type": "stream",
     "text": [
      "Aear= 18.75 平方公分\n"
     ]
    }
   ],
   "source": [
    "#梯形面積\n",
    "n1=float(input('upper')) #5\n",
    "n2=float(input('lower')) #10\n",
    "n3=float(input('hright')) #2.5\n",
    "Area=(n1+n2)*n3/2\n",
    "print(\"Aear=\",round(Area,ndigits=2),\"平方公分\")"
   ]
  },
  {
   "cell_type": "code",
   "execution_count": 50,
   "metadata": {},
   "outputs": [
    {
     "name": "stdout",
     "output_type": "stream",
     "text": [
      "對邊:2.5cm, 斜邊:5.0cm, 角度:30.0度\n"
     ]
    }
   ],
   "source": [
    "#三角函數\n",
    "import math\n",
    "n1=float(input('對邊')) #2.5\n",
    "n2=float(input('斜邊')) #5\n",
    "radian=math.asin(n1/n2)\n",
    "#radian/math.pi*180\n",
    "degree=round(math.degrees(radian),ndigits=2) #30\n",
    "#print(\"對邊=\",n1,\"cm, 斜邊=\",n2,\"cm, 角度=\", degree,\"度\",sep=\"\",end='.\\n')\n",
    "#print(*objects, sep=' ', end='\\n', file=None, flush=False)\n",
    "#将 objects 打印输出至 file 指定的文本流，以 sep 分隔并在末尾加上 end。 sep 、 end 、 file 和 flush 必须以关键字参数的形式给出。\n",
    "#print(\"對邊:{0:.2f}cm, 斜邊:{1:.2f}cm, 角度:{2:.2f}度\".format(n1,n2,degree))\n",
    "#print(f\"對邊:{n1:.2f}cm, 斜邊:{n2:.2f}cm, 角度:{degree:.2f}度\")\n",
    "print(f\"對邊:{n1}cm, 斜邊:{n2}cm, 角度:{degree}度\")"
   ]
  },
  {
   "cell_type": "code",
   "execution_count": 41,
   "metadata": {},
   "outputs": [
    {
     "data": {
      "text/plain": [
       "(5.94418483337567, 1.8257418583505538)"
      ]
     },
     "execution_count": 41,
     "metadata": {},
     "output_type": "execute_result"
    }
   ],
   "source": [
    "#標準差\n",
    "import statistics\n",
    "statistics.mean([0,5,9,14])\n",
    "statistics.mean([5,6,9,8])\n",
    "statistics.stdev([0,5,9,14]),statistics.stdev([5,6,9,8])"
   ]
  },
  {
   "cell_type": "code",
   "execution_count": 51,
   "metadata": {},
   "outputs": [
    {
     "data": {
      "text/plain": [
       "37.06282728126372"
      ]
     },
     "execution_count": 51,
     "metadata": {},
     "output_type": "execute_result"
    }
   ],
   "source": [
    "#Log \n",
    "import math\n",
    "math.log(30000/20000)/math.log(1.011)"
   ]
  }
 ],
 "metadata": {
  "kernelspec": {
   "display_name": "Python 3",
   "language": "python",
   "name": "python3"
  },
  "language_info": {
   "codemirror_mode": {
    "name": "ipython",
    "version": 3
   },
   "file_extension": ".py",
   "mimetype": "text/x-python",
   "name": "python",
   "nbconvert_exporter": "python",
   "pygments_lexer": "ipython3",
   "version": "3.10.8"
  },
  "orig_nbformat": 4
 },
 "nbformat": 4,
 "nbformat_minor": 2
}
