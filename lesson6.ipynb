{
 "cells": [
  {
   "cell_type": "code",
   "execution_count": 1,
   "metadata": {},
   "outputs": [
    {
     "name": "stdout",
     "output_type": "stream",
     "text": [
      "成年\n"
     ]
    }
   ],
   "source": [
    "#判斷\n",
    "age=21\n",
    "if age>18:\n",
    "    print(\"成年\")"
   ]
  },
  {
   "cell_type": "code",
   "execution_count": 3,
   "metadata": {},
   "outputs": [
    {
     "data": {
      "text/plain": [
       "(True, False, False)"
      ]
     },
     "execution_count": 3,
     "metadata": {},
     "output_type": "execute_result"
    }
   ],
   "source": [
    "#關係\n",
    "5==5,5!=5,3>5"
   ]
  },
  {
   "cell_type": "code",
   "execution_count": 14,
   "metadata": {},
   "outputs": [
    {
     "name": "stdout",
     "output_type": "stream",
     "text": [
      "you keyin 320\n",
      "Cannot over 300\n"
     ]
    }
   ],
   "source": [
    "# total 300\n",
    "# 加分 5%\n",
    "# scres*1.05 --> 300\n",
    "scores = int(input(\"keyin student's scores(Max.300)\"))\n",
    "if scores <=300:\n",
    "    is_add = input(\"need to add 5%?(y,n)\")\n",
    "\n",
    "    if is_add==\"y\":\n",
    "        scores*=1.05\n",
    "        if scores >300:\n",
    "            scores=300\n",
    "    print(f\"student's scores:{scores}\")\n",
    "else:\n",
    "    print(\"you keyin\",scores)\n",
    "    print(\"Cannot over 300\")\n"
   ]
  },
  {
   "cell_type": "code",
   "execution_count": 23,
   "metadata": {},
   "outputs": [
    {
     "name": "stdout",
     "output_type": "stream",
     "text": [
      "student's scores:300\n"
     ]
    }
   ],
   "source": [
    "# total 300\n",
    "# 加分 5%\n",
    "# scres*1.05 --> 300\n",
    "try:\n",
    "    scores = int(input(\"keyin student's scores(Max.300)\"))\n",
    "except:\n",
    "    print(\"input error\")\n",
    "\n",
    "else:\n",
    "    if scores <=300:\n",
    "        is_add = input(\"need to add 5%?(y,n)\")\n",
    "\n",
    "        if is_add==\"y\":\n",
    "            scores*=1.05\n",
    "            if scores >300:\n",
    "                scores=300\n",
    "        print(f\"student's scores:{scores}\")\n",
    "    else:\n",
    "        print(\"you keyin\",scores)\n",
    "        print(\"Cannot over 300\")"
   ]
  }
 ],
 "metadata": {
  "kernelspec": {
   "display_name": "Python 3",
   "language": "python",
   "name": "python3"
  },
  "language_info": {
   "codemirror_mode": {
    "name": "ipython",
    "version": 3
   },
   "file_extension": ".py",
   "mimetype": "text/x-python",
   "name": "python",
   "nbconvert_exporter": "python",
   "pygments_lexer": "ipython3",
   "version": "3.10.8"
  },
  "orig_nbformat": 4
 },
 "nbformat": 4,
 "nbformat_minor": 2
}
