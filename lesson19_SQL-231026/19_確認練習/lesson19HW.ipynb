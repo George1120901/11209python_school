{
 "cells": [
  {
   "cell_type": "code",
   "execution_count": 3,
   "metadata": {},
   "outputs": [
    {
     "name": "stdout",
     "output_type": "stream",
     "text": [
      "下載成功\n"
     ]
    },
    {
     "ename": "TypeError",
     "evalue": "'NoneType' object is not iterable",
     "output_type": "error",
     "traceback": [
      "\u001b[1;31m---------------------------------------------------------------------------\u001b[0m",
      "\u001b[1;31mTypeError\u001b[0m                                 Traceback (most recent call last)",
      "Cell \u001b[1;32mIn[3], line 72\u001b[0m\n\u001b[0;32m     68\u001b[0m     conn\u001b[38;5;241m.\u001b[39mclose()\n\u001b[0;32m     71\u001b[0m \u001b[38;5;28;01mif\u001b[39;00m \u001b[38;5;18m__name__\u001b[39m \u001b[38;5;241m==\u001b[39m \u001b[38;5;124m'\u001b[39m\u001b[38;5;124m__main__\u001b[39m\u001b[38;5;124m'\u001b[39m:\n\u001b[1;32m---> 72\u001b[0m     \u001b[43mupdate_sqlite_data\u001b[49m\u001b[43m(\u001b[49m\u001b[43m)\u001b[49m\n",
      "Cell \u001b[1;32mIn[3], line 60\u001b[0m, in \u001b[0;36mupdate_sqlite_data\u001b[1;34m()\u001b[0m\n\u001b[0;32m     58\u001b[0m conn \u001b[38;5;241m=\u001b[39m sqlite3\u001b[38;5;241m.\u001b[39mconnect(\u001b[38;5;124m\"\u001b[39m\u001b[38;5;124m空氣品質監測站.db\u001b[39m\u001b[38;5;124m\"\u001b[39m)\n\u001b[0;32m     59\u001b[0m create_table(conn)\n\u001b[1;32m---> 60\u001b[0m \u001b[38;5;28;01mfor\u001b[39;00m item \u001b[38;5;129;01min\u001b[39;00m data:\n\u001b[0;32m     61\u001b[0m     insert_data(conn, (item[\u001b[38;5;124m'\u001b[39m\u001b[38;5;124msiteid\u001b[39m\u001b[38;5;124m'\u001b[39m], item[\u001b[38;5;124m'\u001b[39m\u001b[38;5;124msitename\u001b[39m\u001b[38;5;124m'\u001b[39m], item[\u001b[38;5;124m'\u001b[39m\u001b[38;5;124msiteengname\u001b[39m\u001b[38;5;124m'\u001b[39m], item[\u001b[38;5;124m'\u001b[39m\u001b[38;5;124mareaname\u001b[39m\u001b[38;5;124m'\u001b[39m],\n\u001b[0;32m     62\u001b[0m                 item[\u001b[38;5;124m'\u001b[39m\u001b[38;5;124mcounty\u001b[39m\u001b[38;5;124m'\u001b[39m], item[\u001b[38;5;124m'\u001b[39m\u001b[38;5;124mtownship\u001b[39m\u001b[38;5;124m'\u001b[39m], item[\u001b[38;5;124m'\u001b[39m\u001b[38;5;124msiteaddress\u001b[39m\u001b[38;5;124m'\u001b[39m], item[\u001b[38;5;124m'\u001b[39m\u001b[38;5;124mtwd97lon\u001b[39m\u001b[38;5;124m'\u001b[39m], item[\u001b[38;5;124m'\u001b[39m\u001b[38;5;124mtwd97lat\u001b[39m\u001b[38;5;124m'\u001b[39m], item[\u001b[38;5;124m'\u001b[39m\u001b[38;5;124msitetype\u001b[39m\u001b[38;5;124m'\u001b[39m]))\n\u001b[0;32m     64\u001b[0m     \u001b[38;5;28mprint\u001b[39m(item)\n",
      "\u001b[1;31mTypeError\u001b[0m: 'NoneType' object is not iterable"
     ]
    }
   ],
   "source": [
    "import threading\n",
    "import requests\n",
    "import sqlite3\n",
    "from datetime import datetime\n",
    "import key\n",
    "\n",
    "\n",
    "# download data----------------------------------------------------------------\n",
    "\n",
    "def download_aqi_data() -> list:\n",
    "    aqi_url = f'https://data.moenv.gov.tw/api/v2/aqx_p_07?formate=json&api_key={key.key}'\n",
    "    response = requests.get(aqi_url)\n",
    "    response.raise_for_status()\n",
    "    print('下載成功')\n",
    "    data = response.json()\n",
    "\n",
    "\n",
    "# create sql able---------------------------------------\n",
    "def create_table(conn: sqlite3.Connection):\n",
    "\n",
    "    sql = '''\n",
    "\t\tCREATE TABLE IF NOT EXISTS \"空氣品質監測站\"(\n",
    "            \"id\" INTEGER,\n",
    "            \"測站編號\" INTEGER,\t\n",
    "\t\t\t\"測站名稱\" TEXT NOT NULL,\n",
    "            \"測站英文名稱\" TEXT NOT NULL,\n",
    "\t\t\t\"空品區\" TEXT NOT NULL,\n",
    "\t\t\t\"城市\" TEXT NOT NULL,\n",
    "            \"鄉鎮\" TEXT NOT NULL,\n",
    "            \"測站地址\" TEXT NOT NULL,\n",
    "\t\t\t\"經度\" INTEGER,\n",
    "\t\t\t\"緯度\" INTEGER,\n",
    "\t\t\t\"測站類型\" TEXT NOT NULL,\n",
    "            \"更新時間\" TEXT NOT NULL,\n",
    "\t\t\tPRIMARY KEY(\"id\" AUTOINCREMENT),\n",
    "            UNIQUE(測站名稱,更新時間) ON CONFLICT REPLACE\n",
    "\t\t)\n",
    "\t\t'''\n",
    "    cursor = conn.cursor()\n",
    "    cursor.execute(sql)\n",
    "    conn.commit()\n",
    "\n",
    "\n",
    "def insert_data(conn: sqlite3.Connection, values: list):\n",
    "    cursor = conn.cursor()\n",
    "    current_time = datetime.now().strftime('%Y-%m-%d %H:%M')\n",
    "    sql = '''\n",
    "\t\tREPLACE INTO '空氣品質監測站\"(\"測站編號\",\"測站名稱\",\"測站英文名稱\",\"空品區\",\"城市\",\"鄉鎮\",\"測站地址\",\"經度\",\"緯度\",\"測站類型\",\"更新時間\")\n",
    "\t\tVALUES(?,?,?,?,?,?,?,?,?,?,?)\n",
    "\t'''\n",
    "    values.append(current_time)\n",
    "    cursor.execute(sql, values)\n",
    "    conn.commit()\n",
    "\n",
    "\n",
    "def update_sqlite_data():\n",
    "    data = download_aqi_data()\n",
    "    conn = sqlite3.connect(\"空氣品質監測站.db\")\n",
    "    create_table(conn)\n",
    "    for item in data:\n",
    "        insert_data(conn, (item['siteid'], item['sitename'], item['siteengname'], item['areaname'],\n",
    "                    item['county'], item['township'], item['siteaddress'], item['twd97lon'], item['twd97lat'], item['sitetype']))\n",
    "\n",
    "        print(item)\n",
    "\n",
    "        print(\"更新完成\")\n",
    "\n",
    "    conn.close()\n",
    "\n",
    "\n",
    "if __name__ == '__main__':\n",
    "    update_sqlite_data()\n"
   ]
  }
 ],
 "metadata": {
  "kernelspec": {
   "display_name": "Python 3.8.10 ('venv': venv)",
   "language": "python",
   "name": "python3"
  },
  "language_info": {
   "codemirror_mode": {
    "name": "ipython",
    "version": 3
   },
   "file_extension": ".py",
   "mimetype": "text/x-python",
   "name": "python",
   "nbconvert_exporter": "python",
   "pygments_lexer": "ipython3",
   "version": "3.8.10"
  },
  "orig_nbformat": 4,
  "vscode": {
   "interpreter": {
    "hash": "23d4822c165d308299e135e33dc6a918208cf948574a2912c04be7f51ea0e419"
   }
  }
 },
 "nbformat": 4,
 "nbformat_minor": 2
}
