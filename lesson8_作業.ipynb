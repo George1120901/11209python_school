{
 "cells": [
  {
   "cell_type": "code",
   "execution_count": 7,
   "metadata": {},
   "outputs": [
    {
     "name": "stdout",
     "output_type": "stream",
     "text": [
      "15 的因數:\n",
      "0\n",
      "num的因數:1\n"
     ]
    }
   ],
   "source": [
    "##求所有因數\n",
    "###num = int(input(\"請輸入整數，求所有因數:\"))\n",
    "###print(num,\"的因數:\")\n",
    "\n",
    "num = int(input(\"請輸入整數，求所有因數:\"))\n",
    "print(num,\"的因數:\")\n",
    "n=1\n",
    "while n<=num:\n",
    "    if (num%n)==0:\n",
    "       print(num%n)\n",
    "       print(f\"num的因數:{n}\")\n",
    "       n+=1\n",
    "    else:\n",
    "        break\n",
    "    \n",
    "       "
   ]
  },
  {
   "cell_type": "code",
   "execution_count": 20,
   "metadata": {},
   "outputs": [
    {
     "name": "stdout",
     "output_type": "stream",
     "text": [
      "9 的因數:\n",
      "num的因數:1\n",
      "num的因數:3\n",
      "num的因數:9\n"
     ]
    }
   ],
   "source": [
    "##求所有因數\n",
    "###num = int(input(\"請輸入整數，求所有因數:\"))\n",
    "###print(num,\"的因數:\")\n",
    "\n",
    "num = int(input(\"請輸入整數，求所有因數:\"))\n",
    "print(num,\"的因數:\")\n",
    "ftr=1\n",
    "while ftr<=num:\n",
    "    if (num%ftr)==0:\n",
    "       print(f\"num的因數:{ftr}\")\n",
    "       ftr+=1\n",
    "    else:\n",
    "       ftr+=1\n",
    "\n",
    "       \n"
   ]
  },
  {
   "cell_type": "code",
   "execution_count": null,
   "metadata": {},
   "outputs": [],
   "source": [
    "#求公因數\n",
    "print(\"請輸入2數,求2數公因數:\")\n",
    "n = int(input('請輸入第1個數:'))\n",
    "m = int(input('請輸入第2個數:'))"
   ]
  },
  {
   "cell_type": "code",
   "execution_count": 27,
   "metadata": {},
   "outputs": [
    {
     "name": "stdout",
     "output_type": "stream",
     "text": [
      "請輸入2數,求2數公因數:\n",
      " -->輸入2數: 6 9\n",
      "6及9的公因數:1\n",
      "6及9的公因數:3\n"
     ]
    }
   ],
   "source": [
    "#求公因數1\n",
    "print(\"請輸入2數,求2數公因數:\")\n",
    "n = int(input('請輸入第1個數:'))\n",
    "m = int(input('請輸入第2個數:'))\n",
    "print(\" -->輸入2數:\",n,m)\n",
    "ftr=1\n",
    "\n",
    "if n<m:\n",
    "   while ftr<n:\n",
    "       if (n%ftr)==0 and (m%ftr)==0 :\n",
    "          print(f\"{n}及{m}的公因數:{ftr}\")\n",
    "          ftr+=1\n",
    "       else:\n",
    "          ftr+=1\n",
    "else:\n",
    "   while ftr<m:\n",
    "       if ((n%ftr)==0 and (m%ftr)==0):\n",
    "          print(f\"{n}及{m}的公因數:{ftr}\")\n",
    "          ftr+=1\n",
    "       else:\n",
    "          ftr+=1"
   ]
  },
  {
   "cell_type": "code",
   "execution_count": 22,
   "metadata": {},
   "outputs": [
    {
     "ename": "IndentationError",
     "evalue": "unexpected indent (2850572835.py, line 6)",
     "output_type": "error",
     "traceback": [
      "\u001b[1;36m  Cell \u001b[1;32mIn[22], line 6\u001b[1;36m\u001b[0m\n\u001b[1;33m    while ftr<min(n,m):\u001b[0m\n\u001b[1;37m    ^\u001b[0m\n\u001b[1;31mIndentationError\u001b[0m\u001b[1;31m:\u001b[0m unexpected indent\n"
     ]
    }
   ],
   "source": [
    "#求公因數1\n",
    "print(\"請輸入2數,求2數公因數:\")\n",
    "n = int(input('請輸入第1個數:'))\n",
    "m = int(input('請輸入第2個數:'))\n",
    "ftr=1\n",
    "   while ftr<min(n,m):\n",
    "       if ((n%ftr)==0 and (m%ftr)==0):\n",
    "          print(f\"{n}及{m}的公因數:{ftr}\")\n",
    "          ftr+=1\n",
    "       else:\n",
    "          ftr=+1"
   ]
  },
  {
   "cell_type": "code",
   "execution_count": 34,
   "metadata": {},
   "outputs": [
    {
     "ename": "ValueError",
     "evalue": "invalid literal for int() with base 10: '1到5的質數是:'",
     "output_type": "error",
     "traceback": [
      "\u001b[1;31m---------------------------------------------------------------------------\u001b[0m",
      "\u001b[1;31mValueError\u001b[0m                                Traceback (most recent call last)",
      "\u001b[1;32mc:\\Users\\User\\Documents\\GitHub\\__11209python_school__\\lesson8_作業.ipynb 儲存格 6\u001b[0m line \u001b[0;36m3\n\u001b[0;32m      <a href='vscode-notebook-cell:/c%3A/Users/User/Documents/GitHub/__11209python_school__/lesson8_%E4%BD%9C%E6%A5%AD.ipynb#W2sZmlsZQ%3D%3D?line=0'>1</a>\u001b[0m \u001b[39m#2~100,每一個的質數\u001b[39;00m\n\u001b[0;32m      <a href='vscode-notebook-cell:/c%3A/Users/User/Documents/GitHub/__11209python_school__/lesson8_%E4%BD%9C%E6%A5%AD.ipynb#W2sZmlsZQ%3D%3D?line=1'>2</a>\u001b[0m end \u001b[39m=\u001b[39m \u001b[39mint\u001b[39m(\u001b[39minput\u001b[39m(\u001b[39m\"\u001b[39m\u001b[39m請輸入end值:\u001b[39m\u001b[39m\"\u001b[39m))\n\u001b[1;32m----> <a href='vscode-notebook-cell:/c%3A/Users/User/Documents/GitHub/__11209python_school__/lesson8_%E4%BD%9C%E6%A5%AD.ipynb#W2sZmlsZQ%3D%3D?line=2'>3</a>\u001b[0m \u001b[39mprint\u001b[39;49m(\u001b[39mf\u001b[39;49m\u001b[39m\"\u001b[39;49m\u001b[39m1到\u001b[39;49m\u001b[39m{\u001b[39;49;00mend\u001b[39m}\u001b[39;49;00m\u001b[39m的質數是:\u001b[39;49m\u001b[39m\"\u001b[39;49m)\n",
      "\u001b[1;31mValueError\u001b[0m: invalid literal for int() with base 10: '1到5的質數是:'"
     ]
    }
   ],
   "source": [
    "#2~100,每一個的質數\n",
    "end = int(input(\"請輸入end值:\"))\n",
    "print(f\"1到{end}的質數是:\")"
   ]
  },
  {
   "cell_type": "code",
   "execution_count": 41,
   "metadata": {},
   "outputs": [
    {
     "ename": "ValueError",
     "evalue": "invalid literal for int() with base 10: '1到15的質數是:'",
     "output_type": "error",
     "traceback": [
      "\u001b[1;31m---------------------------------------------------------------------------\u001b[0m",
      "\u001b[1;31mValueError\u001b[0m                                Traceback (most recent call last)",
      "\u001b[1;32mc:\\Users\\User\\Documents\\GitHub\\__11209python_school__\\lesson8_作業.ipynb 儲存格 7\u001b[0m line \u001b[0;36m3\n\u001b[0;32m      <a href='vscode-notebook-cell:/c%3A/Users/User/Documents/GitHub/__11209python_school__/lesson8_%E4%BD%9C%E6%A5%AD.ipynb#W5sZmlsZQ%3D%3D?line=0'>1</a>\u001b[0m \u001b[39m#2~100,每一個的質數\u001b[39;00m\n\u001b[0;32m      <a href='vscode-notebook-cell:/c%3A/Users/User/Documents/GitHub/__11209python_school__/lesson8_%E4%BD%9C%E6%A5%AD.ipynb#W5sZmlsZQ%3D%3D?line=1'>2</a>\u001b[0m end \u001b[39m=\u001b[39m \u001b[39mint\u001b[39m(\u001b[39minput\u001b[39m(\u001b[39m\"\u001b[39m\u001b[39m請輸入end值:\u001b[39m\u001b[39m\"\u001b[39m))\n\u001b[1;32m----> <a href='vscode-notebook-cell:/c%3A/Users/User/Documents/GitHub/__11209python_school__/lesson8_%E4%BD%9C%E6%A5%AD.ipynb#W5sZmlsZQ%3D%3D?line=2'>3</a>\u001b[0m \u001b[39mprint\u001b[39;49m(\u001b[39mf\u001b[39;49m\u001b[39m\"\u001b[39;49m\u001b[39m1到\u001b[39;49m\u001b[39m{\u001b[39;49;00mend\u001b[39m}\u001b[39;49;00m\u001b[39m的質數是:\u001b[39;49m\u001b[39m\"\u001b[39;49m)\n\u001b[0;32m      <a href='vscode-notebook-cell:/c%3A/Users/User/Documents/GitHub/__11209python_school__/lesson8_%E4%BD%9C%E6%A5%AD.ipynb#W5sZmlsZQ%3D%3D?line=3'>4</a>\u001b[0m m\u001b[39m=\u001b[39m\u001b[39m0\u001b[39m\n\u001b[0;32m      <a href='vscode-notebook-cell:/c%3A/Users/User/Documents/GitHub/__11209python_school__/lesson8_%E4%BD%9C%E6%A5%AD.ipynb#W5sZmlsZQ%3D%3D?line=4'>5</a>\u001b[0m n\u001b[39m=\u001b[39m\u001b[39m2\u001b[39m\n",
      "\u001b[1;31mValueError\u001b[0m: invalid literal for int() with base 10: '1到15的質數是:'"
     ]
    }
   ],
   "source": [
    "#2~100,每一個的質數\n",
    "end = int(input(\"請輸入end值:\"))\n",
    "print(f\"1到{end}的質數是:\")\n",
    "m=0\n",
    "n=2\n",
    "pn=2\n",
    "print=type(end)\n",
    "for nn in range(2,end+1):\n",
    "\n",
    "    for pn in range(2,nn+1):\n",
    "       \n",
    "       if nn%pn == 0 and pn < nn:\n",
    "          break\n",
    "       elif nn%pn != 0 and pn < nn:\n",
    "          continue\n",
    "       else:\n",
    "          print(nn)"
   ]
  }
 ],
 "metadata": {
  "kernelspec": {
   "display_name": ".venv",
   "language": "python",
   "name": "python3"
  },
  "language_info": {
   "codemirror_mode": {
    "name": "ipython",
    "version": 3
   },
   "file_extension": ".py",
   "mimetype": "text/x-python",
   "name": "python",
   "nbconvert_exporter": "python",
   "pygments_lexer": "ipython3",
   "version": "3.10.8"
  },
  "orig_nbformat": 4
 },
 "nbformat": 4,
 "nbformat_minor": 2
}
