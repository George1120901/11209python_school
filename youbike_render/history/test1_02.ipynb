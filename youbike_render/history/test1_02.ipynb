{
 "cells": [
  {
   "cell_type": "code",
   "execution_count": 1,
   "metadata": {},
   "outputs": [
    {
     "name": "stdout",
     "output_type": "stream",
     "text": [
      "連線成功\n",
      "<connection object at 0x0000028750192460; dsn: 'user=georgelu password=xxx dbname=maindb_487y host=dpg-cl5g98d6fh7c73emr7gg-a.singapore-postgres.render.com port=5432', closed: 0>\n"
     ]
    }
   ],
   "source": [
    "import psycopg2\n",
    "try:\n",
    "    conn = psycopg2.connect(database=\"maindb_487y\",\n",
    "                            user=\"georgelu\",\n",
    "                            password=\"rMrazWsC9S3aQCOjVtJpxLNoCmgvpaN1\",\n",
    "                            host=\"dpg-cl5g98d6fh7c73emr7gg-a.singapore-postgres.render.com\",\n",
    "                            port=\"5432\")\n",
    "except psycopg2.Error as e:\n",
    "    print(\"error\")\n",
    "    print(e)\n",
    "else:\n",
    "    print(\"連線成功\")\n",
    "    print(conn)"
   ]
  },
  {
   "cell_type": "code",
   "execution_count": 2,
   "metadata": {},
   "outputs": [
    {
     "name": "stdout",
     "output_type": "stream",
     "text": [
      "[]\n"
     ]
    }
   ],
   "source": [
    "with conn.cursor() as cursor:\n",
    "    cursor.execute(\"select * from 台北市youbike\")\n",
    "    records = cursor.fetchall()\n",
    "\n",
    "print(records)"
   ]
  }
 ],
 "metadata": {
  "kernelspec": {
   "display_name": "venv",
   "language": "python",
   "name": "python3"
  },
  "language_info": {
   "codemirror_mode": {
    "name": "ipython",
    "version": 3
   },
   "file_extension": ".py",
   "mimetype": "text/x-python",
   "name": "python",
   "nbconvert_exporter": "python",
   "pygments_lexer": "ipython3",
   "version": "3.10.8"
  }
 },
 "nbformat": 4,
 "nbformat_minor": 2
}
