{
 "cells": [
  {
   "cell_type": "code",
   "execution_count": 9,
   "metadata": {},
   "outputs": [
    {
     "name": "stdout",
     "output_type": "stream",
     "text": [
      "請輸入1個月存款(元)20000\n",
      "距目標還19800元\n",
      "請輸入2個月存款(元)20000\n",
      "恭喜2個月,總存40000元\n"
     ]
    }
   ],
   "source": [
    "\n",
    "import pyinputplus as pyip\n",
    "\n",
    "month=0\n",
    "deposit=0\n",
    "while (deposit<39800):\n",
    "    month+=1\n",
    "    input_diposit=pyip.inputInt(f\"請輸入{month}個月存款(元)\")\n",
    "    print(input_diposit)\n",
    "    deposit+=input_diposit\n",
    "    if deposit<39800:\n",
    "        print(f\"距目標還{39800-deposit}元\")\n",
    "\n",
    "print(f\"恭喜{month}個月,總存{deposit}元\")"
   ]
  },
  {
   "cell_type": "code",
   "execution_count": 7,
   "metadata": {},
   "outputs": [
    {
     "name": "stdout",
     "output_type": "stream",
     "text": [
      "請輸入第1個月份的存款:30000\n",
      "目前距離目標還差:9800\n",
      "=============\n",
      "請輸入第2個月份的存款:30000\n",
      "=============\n",
      "恭喜!已經存夠了,總共存了2月份總存款為:60000\n"
     ]
    }
   ],
   "source": [
    "#小明想要存錢買一輛機車,機車每輛39800元，他將每月存的錢輸入，當存款足夠買機車時，就顯示提示訊息告知。\n",
    "import pyinputplus as pyip\n",
    "\n",
    "month = 0\n",
    "deposit = 0\n",
    "while(deposit < 39800):\n",
    "    month += 1\n",
    "    input_value = pyip.inputInt(f\"請輸入第{month}個月份的存款:\")\n",
    "    print(input_value)\n",
    "    deposit += input_value\n",
    "    if deposit < 39800:\n",
    "        print(f\"目前距離目標還差:{39800-deposit}\")\n",
    "    print(\"=============\")\n",
    "\n",
    "print(f\"恭喜!已經存夠了,總共存了{month}月份總存款為:{deposit}\")"
   ]
  },
  {
   "cell_type": "code",
   "execution_count": 14,
   "metadata": {},
   "outputs": [
    {
     "name": "stdout",
     "output_type": "stream",
     "text": [
      "1\n",
      "2\n",
      "6\n",
      "a\n",
      "s\n",
      "離開\n"
     ]
    }
   ],
   "source": [
    "while True:\n",
    "    stuff = input(\"[按q會離開]:\")\n",
    "    if stuff == 'q':\n",
    "        print(\"離開\")\n",
    "        break\n",
    "    print(stuff)"
   ]
  },
  {
   "cell_type": "code",
   "execution_count": 10,
   "metadata": {},
   "outputs": [
    {
     "name": "stdout",
     "output_type": "stream",
     "text": [
      "12\n",
      "45\n",
      "a\n"
     ]
    }
   ],
   "source": [
    "while(True):\n",
    "    stuff = input(\"請輸入小寫英文字[按q會離開]:\")\n",
    "    if stuff == 'q':\n",
    "        break\n",
    "    print(stuff)\n",
    "    "
   ]
  },
  {
   "cell_type": "code",
   "execution_count": 17,
   "metadata": {},
   "outputs": [
    {
     "name": "stdout",
     "output_type": "stream",
     "text": [
      "不作動作,請重新輸入\n",
      "3的平方是9\n",
      "5的平方是25\n"
     ]
    },
    {
     "ename": "ValueError",
     "evalue": "invalid literal for int() with base 10: 'a'",
     "output_type": "error",
     "traceback": [
      "\u001b[1;31m---------------------------------------------------------------------------\u001b[0m",
      "\u001b[1;31mValueError\u001b[0m                                Traceback (most recent call last)",
      "\u001b[1;32mc:\\Users\\User\\Documents\\GitHub\\__11209python_school__\\lesson9_1.ipynb 儲存格 5\u001b[0m line \u001b[0;36m8\n\u001b[0;32m      <a href='vscode-notebook-cell:/c%3A/Users/User/Documents/GitHub/__11209python_school__/lesson9_1.ipynb#W4sZmlsZQ%3D%3D?line=5'>6</a>\u001b[0m     \u001b[39mprint\u001b[39m(\u001b[39m\"\u001b[39m\u001b[39m離開\u001b[39m\u001b[39m\"\u001b[39m)\n\u001b[0;32m      <a href='vscode-notebook-cell:/c%3A/Users/User/Documents/GitHub/__11209python_school__/lesson9_1.ipynb#W4sZmlsZQ%3D%3D?line=6'>7</a>\u001b[0m     \u001b[39mbreak\u001b[39;00m\n\u001b[1;32m----> <a href='vscode-notebook-cell:/c%3A/Users/User/Documents/GitHub/__11209python_school__/lesson9_1.ipynb#W4sZmlsZQ%3D%3D?line=7'>8</a>\u001b[0m value \u001b[39m=\u001b[39m \u001b[39mint\u001b[39;49m(keyin)\n\u001b[0;32m      <a href='vscode-notebook-cell:/c%3A/Users/User/Documents/GitHub/__11209python_school__/lesson9_1.ipynb#W4sZmlsZQ%3D%3D?line=8'>9</a>\u001b[0m \u001b[39mif\u001b[39;00m value \u001b[39m%\u001b[39m \u001b[39m2\u001b[39m \u001b[39m==\u001b[39m \u001b[39m0\u001b[39m:\n\u001b[0;32m     <a href='vscode-notebook-cell:/c%3A/Users/User/Documents/GitHub/__11209python_school__/lesson9_1.ipynb#W4sZmlsZQ%3D%3D?line=9'>10</a>\u001b[0m     \u001b[39mprint\u001b[39m(\u001b[39m\"\u001b[39m\u001b[39m不作動作,請重新輸入\u001b[39m\u001b[39m\"\u001b[39m)\n",
      "\u001b[1;31mValueError\u001b[0m: invalid literal for int() with base 10: 'a'"
     ]
    }
   ],
   "source": [
    "#奇數輸出平方\n",
    "#偶數不做任何動作\n",
    "while(True):\n",
    "    keyin = input(\"請輸入整數,輸入[q]會離開]:\")\n",
    "    if keyin == 'q':\n",
    "        print(\"離開\")\n",
    "        break\n",
    "    value = int(keyin)\n",
    "    if value % 2 == 0:\n",
    "        print(\"不作動作,請重新輸入\")\n",
    "        continue\n",
    "    else:\n",
    "        print(f\"{value}的平方是{value ** 2}\")"
   ]
  },
  {
   "cell_type": "code",
   "execution_count": 19,
   "metadata": {},
   "outputs": [
    {
     "name": "stdout",
     "output_type": "stream",
     "text": [
      "不作動作,請重新輸入\n",
      "3的平方是9\n",
      "5的平方是25\n",
      "豬頭^_^-請輸入整數\n",
      "1的平方是1\n",
      "不作動作,請重新輸入\n",
      "5的平方是25\n"
     ]
    }
   ],
   "source": [
    "#奇數輸出平方\n",
    "#偶數不做任何動作\n",
    "while(True):\n",
    "    keyin = input(\"請輸入整數,輸入[q]會離開]:\")\n",
    "    if keyin == 'q':\n",
    "        print(\"離開\")\n",
    "        break\n",
    "    try:\n",
    "        value = int(keyin)\n",
    "    except:\n",
    "        print(\"豬頭^_^-請輸入整數\")\n",
    "        continue\n",
    "    else:    \n",
    "        if value % 2 == 0:\n",
    "            print(\"不作動作,請重新輸入\")\n",
    "            continue\n",
    "        else:\n",
    "            print(f\"{value}的平方是{value ** 2}\")"
   ]
  },
  {
   "cell_type": "code",
   "execution_count": 14,
   "metadata": {},
   "outputs": [
    {
     "name": "stdout",
     "output_type": "stream",
     "text": [
      "輸入整數= 3\n",
      "輸入整數= 3\n",
      "輸入整數= 5\n",
      "輸入整數= 5\n",
      "輸入整數= 8\n"
     ]
    },
    {
     "ename": "ValueError",
     "evalue": "invalid literal for int() with base 10: 'a'",
     "output_type": "error",
     "traceback": [
      "\u001b[1;31m---------------------------------------------------------------------------\u001b[0m",
      "\u001b[1;31mValueError\u001b[0m                                Traceback (most recent call last)",
      "\u001b[1;32mc:\\Users\\User\\Documents\\GitHub\\__11209python_school__\\lesson9_1.ipynb 儲存格 7\u001b[0m line \u001b[0;36m5\n\u001b[0;32m      <a href='vscode-notebook-cell:/c%3A/Users/User/Documents/GitHub/__11209python_school__/lesson9_1.ipynb#X10sZmlsZQ%3D%3D?line=0'>1</a>\u001b[0m \u001b[39m#input_value = int(input(\"請輸入整數\"))\u001b[39;00m\n\u001b[0;32m      <a href='vscode-notebook-cell:/c%3A/Users/User/Documents/GitHub/__11209python_school__/lesson9_1.ipynb#X10sZmlsZQ%3D%3D?line=3'>4</a>\u001b[0m \u001b[39mwhile\u001b[39;00m(\u001b[39mTrue\u001b[39;00m):\n\u001b[1;32m----> <a href='vscode-notebook-cell:/c%3A/Users/User/Documents/GitHub/__11209python_school__/lesson9_1.ipynb#X10sZmlsZQ%3D%3D?line=4'>5</a>\u001b[0m     input_value \u001b[39m=\u001b[39m \u001b[39mint\u001b[39;49m(\u001b[39minput\u001b[39;49m(\u001b[39m\"\u001b[39;49m\u001b[39m請輸入整數\u001b[39;49m\u001b[39m\"\u001b[39;49m))\n\u001b[0;32m      <a href='vscode-notebook-cell:/c%3A/Users/User/Documents/GitHub/__11209python_school__/lesson9_1.ipynb#X10sZmlsZQ%3D%3D?line=5'>6</a>\u001b[0m     \u001b[39mif\u001b[39;00m ((input_value)\u001b[39m%\u001b[39m\u001b[39m2\u001b[39m)\u001b[39m>\u001b[39m \u001b[39m0\u001b[39m:\n\u001b[0;32m      <a href='vscode-notebook-cell:/c%3A/Users/User/Documents/GitHub/__11209python_school__/lesson9_1.ipynb#X10sZmlsZQ%3D%3D?line=6'>7</a>\u001b[0m         \u001b[39mprint\u001b[39m(\u001b[39m\"\u001b[39m\u001b[39m輸入整數=\u001b[39m\u001b[39m\"\u001b[39m,input_value)\n",
      "\u001b[1;31mValueError\u001b[0m: invalid literal for int() with base 10: 'a'"
     ]
    }
   ],
   "source": [
    "#input_value = int(input(\"請輸入整數\"))\n",
    "\n",
    "\n",
    "while(True):\n",
    "    input_value = int(input(\"請輸入整數\"))\n",
    "    if ((input_value)%2)> 0:\n",
    "        print(\"輸入整數=\",input_value)\n",
    "    try:\n",
    "        value = int(input_value)\n",
    "    except:\n",
    "        print(\"豬頭^_^-請輸入整數\")\n",
    "        continueq\n",
    "    else:    \n",
    "        print(\"輸入整數=\",input_value)\n",
    "\n",
    "    "
   ]
  },
  {
   "cell_type": "code",
   "execution_count": 12,
   "metadata": {},
   "outputs": [
    {
     "name": "stdout",
     "output_type": "stream",
     "text": [
      "a格式錯誤,請重新輸入\n",
      "b格式錯誤,請重新輸入\n",
      "數值必需在10~20之間\n",
      "數值必需在10~20之間\n",
      "15\n"
     ]
    }
   ],
   "source": [
    "while True:\n",
    "    try:\n",
    "        key_in = input(\"請輸入整數:\")\n",
    "        value = int(key_in)\n",
    "    except:\n",
    "        print(f\"{key_in}格式錯誤,請重新輸入\")\n",
    "        continue\n",
    "    else:\n",
    "        if value<=20 and value>=10:\n",
    "            break\n",
    "        else:\n",
    "            print(\"數值必需在10~20之間\")\n",
    "            continue\n",
    "print(value)"
   ]
  }
 ],
 "metadata": {
  "kernelspec": {
   "display_name": ".venv",
   "language": "python",
   "name": "python3"
  },
  "language_info": {
   "codemirror_mode": {
    "name": "ipython",
    "version": 3
   },
   "file_extension": ".py",
   "mimetype": "text/x-python",
   "name": "python",
   "nbconvert_exporter": "python",
   "pygments_lexer": "ipython3",
   "version": "3.10.8"
  },
  "orig_nbformat": 4
 },
 "nbformat": 4,
 "nbformat_minor": 2
}
