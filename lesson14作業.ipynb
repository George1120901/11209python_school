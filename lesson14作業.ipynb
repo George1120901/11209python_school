{
 "cells": [
  {
   "cell_type": "markdown",
   "metadata": {},
   "source": [
    "# 檔案存取\n",
    "\n",
    "##  本堂教學重點\n",
    "1. 檔案基本操作\n",
    "2. CSV 與JSON 操作\n",
    "3. 檔案例外處理\n",
    "4. 檔案關閉動作\n",
    "\n",
    "##  檔案存取\n",
    "- 在讀取或寫入文件之前，必須使用 Python 內建的 open( ) 函數開啟 文件。 這個函數將建立一個文件物件，這個文件物件會與真實的文件做連結，可讓您透過文件物件對文件進行存取動作。\n",
    "- file object = open(file_name [, access_mode])\n",
    "- UTF8 編碼資料還請加入另一個參數才可避免亂碼:encoding=‘utf-8'\n",
    "- file object = open(file_name [, access_mode])\n",
    "    1. file_name:file_name 參數是一個字串資料，代表包含要連結的文件名稱。\n",
    "    2. access_mode:access_mode 確定文件必須打開的模式，包括讀取、寫 入、附加等等。稍後會列完整列表。這是可選參數，默認文件訪問模式為 讀取(r)。\n",
    "    \n",
    "\n",
    "| 存取模式 | 描述 |\n",
    "|:--      |:-- |\n",
    "| r | 連結開啟僅供閱讀的文件， 這是預設模式。|\n",
    "| rb | 以二進位方式連結開啟僅供閱讀的文件。|\n",
    "| r+ | 連結一個用於閱讀和寫作的文件。|\n",
    "| rb+ | 連結一個用於閱讀和寫作的二進位格式文件。|\n",
    "| w | 連結文件後僅供寫入。 如果文件存在，則覆蓋該文件。 如果文件不存在，則建立一個新文件後進行寫入。 |\n",
    "| wb | 連結二進位格式的文件後僅供寫入。如果文件存在，則覆蓋該文件。 如果文件不存在，則建立一個新文件進行寫入。 |\n",
    "| w+ | 連結文件後可以寫入和閱讀。如果文件存在，則覆蓋現有文件。 如果文件不存在，則建立一個新文件進行閱讀和寫入。 |\n",
    "| wb+ | 連結二進位格式文件後可以寫入和閱讀。如果文件存在，則覆蓋現有文件。 如果文件不存在，則建立一個新文件進行閱讀和寫入。 |\n",
    "| a | 連結一個文件進行附加。 如果文件存在，將處於從後面加入的模式。 如果文件不存在，它將建立一個新文件進行寫入。 |\n",
    "| ab | 連結一個二進位格式文件進行附加。 如果文件存在，將處於從後面加入的模式。 如果文件不存在，它將建立一個新文件進行寫入。 |\n",
    "| a+ | 連結一個文件進行附加與讀取。 如果文件存在，將處於從後面加入的模式。 如果文件不存在，它將建立一個新文件進行寫入與讀取。 |\n",
    "| ab+ | 連結一個文件進行附加與二進位格式讀取。 如果文件存在，將處於從後面加入的 模式。 如果文件不存在，它將建立一個新文件進行寫入與讀取。 |"
   ]
  },
  {
   "cell_type": "markdown",
   "metadata": {},
   "source": [
    "# 操作範例 1:請動手操作，並留意輸出結果\n",
    "# 使用print()寫入\n",
    "text = '''python與中文\n",
    "1. 我們來試試看中文儲存能力。\n",
    "2. 許這個字會有編碼衝突風險。\n",
    "3. 犇這個字必須是utf8編碼才有。'''\n",
    "\n",
    "print(text ,file=open('data.txt','w',encoding='utf-8'))\n",
    "#print(text ,file=open('data.txt','w'))"
   ]
  },
  {
   "cell_type": "code",
   "execution_count": null,
   "metadata": {},
   "outputs": [],
   "source": [
    "# 操作範例 1:\n",
    "text = data.txt\n",
    "print(text, file=open('./lesson14HW/data.txt', 'w', encoding='utf-8'))\n",
    "#print(text ,file=open('data.txt','w'))"
   ]
  },
  {
   "cell_type": "code",
   "execution_count": null,
   "metadata": {},
   "outputs": [],
   "source": [
    "# 操作範例 1:\n",
    "file = open('data.txt', 'w', encoding='utf-8')\n",
    "file.write(text)\n",
    "file.close()\n"
   ]
  },
  {
   "cell_type": "code",
   "execution_count": 20,
   "metadata": {},
   "outputs": [],
   "source": [
    "# 操作範例 2:請動手操作，並留意輸出結果\n",
    "#建立50位學生,每位學生5個分數\n",
    "# write()\n",
    "\n",
    "\n",
    "import random\n",
    "\n",
    "students = []\n",
    "for _ in range(50):\n",
    "    scores = [] #建立一個0元素的list\n",
    "    for _ in range(5):\n",
    "        scores += [random.randint(50,100)]\n",
    "    students.append(scores)\n",
    "\n",
    "file = open('students.txt','w',encoding='utf-8')\n",
    "file.write(str(students))\n",
    "file.close()"
   ]
  }
 ],
 "metadata": {
  "kernelspec": {
   "display_name": "Python 3.8.10 ('venv': venv)",
   "language": "python",
   "name": "python3"
  },
  "language_info": {
   "codemirror_mode": {
    "name": "ipython",
    "version": 3
   },
   "file_extension": ".py",
   "mimetype": "text/x-python",
   "name": "python",
   "nbconvert_exporter": "python",
   "pygments_lexer": "ipython3",
   "version": "3.8.10"
  },
  "orig_nbformat": 4,
  "vscode": {
   "interpreter": {
    "hash": "23d4822c165d308299e135e33dc6a918208cf948574a2912c04be7f51ea0e419"
   }
  }
 },
 "nbformat": 4,
 "nbformat_minor": 2
}
