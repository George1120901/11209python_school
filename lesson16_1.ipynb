{
 "cells": [
  {
   "cell_type": "code",
   "execution_count": null,
   "metadata": {},
   "outputs": [],
   "source": [
    "import requests\n",
    "def download() -> requests.Response | None:\n",
    "    url = 'https://data.moi.gov.tw/MoiOD/System/DownloadFile.aspx?DATA=CA18EE06-4A50-4861-9D97-7853353D7108'\n",
    "    response = requests.request('GET',url)\n",
    "    try:\n",
    "        response.raise_for_status()\n",
    "    except:\n",
    "        print(\"連線發生錯誤\")\n",
    "        return None\n",
    "        \n",
    "    else:\n",
    "        if not response.ok:\n",
    "            print(\"下載失敗\")\n",
    "            return None\n",
    "            \n",
    "        else:\n",
    "            return response"
   ]
  }
 ],
 "metadata": {
  "language_info": {
   "name": "python"
  }
 },
 "nbformat": 4,
 "nbformat_minor": 2
}
