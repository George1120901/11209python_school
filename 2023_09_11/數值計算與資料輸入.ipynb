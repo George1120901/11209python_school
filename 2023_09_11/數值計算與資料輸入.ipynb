{
 "cells": [
  {
   "cell_type": "code",
   "execution_count": 3,
   "metadata": {},
   "outputs": [
    {
     "data": {
      "text/plain": [
       "0"
      ]
     },
     "execution_count": 3,
     "metadata": {},
     "output_type": "execute_result"
    }
   ],
   "source": [
    "#python的整數\n",
    "#\n",
    "\n",
    "5\n",
    "0"
   ]
  },
  {
   "cell_type": "code",
   "execution_count": null,
   "metadata": {},
   "outputs": [],
   "source": [
    "5\n",
    "\n",
    "0\n",
    "\n",
    "#數字前不可以加0\n",
    "\n",
    "05 #SyntaxError: invalid token #python的語法錯誤\n",
    "\n",
    "\n",
    "#正整數\n",
    ">>> 123\n",
    "    123\n",
    ">>> +123\n",
    "    123\n",
    "    \n",
    "#負整數\n",
    ">>> -123 \n",
    "-123\n",
    "\n",
    "#整數運算\n",
    ">>>5+9 \n",
    "   14 \n",
    ">>>100-7 \n",
    "   93 \n",
    ">>>4-10 \n",
    "   -6\n",
    "   \n",
    "#多個數值運算\n",
    ">>>5+9+3\n",
    "17 \n",
    ">>>4+3-2-1+6 \n",
    "\t 10\n",
    "\t \n",
    "#乘法運算\n",
    ">>>6*7\n",
    "42\n",
    ">>>7*6\n",
    "42 \n",
    ">>>6*7*2*3 \n",
    "   252\n",
    "   \n",
    "#浮點數除法\n",
    ">>>9/5 \n",
    "   1.8\n",
    "\n",
    "#整數除法\n",
    ">>>9//5 \n",
    "   1\n",
    "#除數不可以為零\n",
    ">>>5/0\n",
    "Traceback (most recent call last):\n",
    "File \"<stdin>\", line 1, in <module> ZeroDivisionError: division by zero >>>7//0\n",
    "Traceback (most recent call last):\n",
    "File \"<stdin>\", line 1, in <module> ZeroDivisionError: integer division or modulo by z\n",
    "\n",
    "\n",
    "#變數可以運算\n",
    ">>>a=95 \n",
    ">>> a\n",
    "95 \n",
    ">>>a-3 \n",
    "   92\n",
    "\n",
    "#將變數自已的內容減3   \n",
    ">>>a=a-3 \n",
    ">>> a\n",
    "92\n",
    "\n",
    ">>>a=95 \n",
    ">>>temp=a-3 \n",
    ">>>a=temp\n",
    "\n",
    "#上面敘述式，可以使用下面這行替代\n",
    ">>>a=a-3\n",
    "\n",
    "#餘數\n",
    ">>>9%5 \n",
    "   4\n",
    "   \n",
    ">>> divmod(9,5)\n",
    "    (1, 4)\n",
    "\n",
    ">>> 9//5 \n",
    "   1 \n",
    ">>> 9%5 \n",
    "   4\n",
    "\n",
    "\n"
   ]
  }
 ],
 "metadata": {
  "kernelspec": {
   "display_name": ".venv",
   "language": "python",
   "name": "python3"
  },
  "language_info": {
   "codemirror_mode": {
    "name": "ipython",
    "version": 3
   },
   "file_extension": ".py",
   "mimetype": "text/x-python",
   "name": "python",
   "nbconvert_exporter": "python",
   "pygments_lexer": "ipython3",
   "version": "3.10.8"
  },
  "orig_nbformat": 4
 },
 "nbformat": 4,
 "nbformat_minor": 2
}
