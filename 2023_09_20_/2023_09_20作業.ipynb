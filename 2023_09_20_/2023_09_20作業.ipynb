{
 "cells": [
  {
   "cell_type": "markdown",
   "metadata": {},
   "source": [
    "![作業1](./pic1.png)\n",
    "![作業2](./pic2.png)"
   ]
  },
  {
   "cell_type": "code",
   "execution_count": 18,
   "metadata": {},
   "outputs": [
    {
     "name": "stdout",
     "output_type": "stream",
     "text": [
      "請輸入BMI值:25\n",
      "您的BMI是:25\n",
      "您的體重:過重\n"
     ]
    }
   ],
   "source": [
    "import pyinputplus as pyip\n",
    "BMI = pyip.inputInt(prompt=\"請輸入BMI值:\",min=0)\n",
    "print(BMI)\n",
    "state = \"\"\n",
    "if BMI > 30:\n",
    "    state = \"肥胖\"\n",
    "elif BMI >= 25:    \n",
    "    state = \"過重\"\n",
    "elif BMI >= 18.5:     \n",
    "    state = \"正常\"\n",
    "else:\n",
    "    state = \"太輕\"\n",
    "print(f\"您的BMI是{BMI}\")\n",
    "print(f\"您的體重 {state}\")"
   ]
  },
  {
   "cell_type": "code",
   "execution_count": null,
   "metadata": {},
   "outputs": [],
   "source": [
    "sbp=int(input(\"請輸入收縮壓\"))\n",
    "dbp=int(input(\"請輸入收縮壓\"))"
   ]
  }
 ],
 "metadata": {
  "kernelspec": {
   "display_name": ".venv",
   "language": "python",
   "name": "python3"
  },
  "language_info": {
   "codemirror_mode": {
    "name": "ipython",
    "version": 3
   },
   "file_extension": ".py",
   "mimetype": "text/x-python",
   "name": "python",
   "nbconvert_exporter": "python",
   "pygments_lexer": "ipython3",
   "version": "3.10.8"
  },
  "orig_nbformat": 4
 },
 "nbformat": 4,
 "nbformat_minor": 2
}
