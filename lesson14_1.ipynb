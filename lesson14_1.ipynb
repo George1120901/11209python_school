{
 "cells": [
  {
   "cell_type": "code",
   "execution_count": null,
   "metadata": {},
   "outputs": [],
   "source": [
    "import password\n",
    "import requests\n",
    "url = f\"https://data.moenv.gov.tw/api/v2/aqx_p_07?api_key={password.apikey}\"\n",
    "print(url)\n",
    "res = requests.get(url)\n",
    "\n",
    "if res.ok:\n",
    "    print(\"下載成功\")\n",
    "else:\n",
    "    print(\"下載失敗\")"
   ]
  },
  {
   "cell_type": "code",
   "execution_count": null,
   "metadata": {},
   "outputs": [],
   "source": [
    "print(res.text)"
   ]
  }
 ],
 "metadata": {
  "language_info": {
   "name": "python"
  },
  "orig_nbformat": 4
 },
 "nbformat": 4,
 "nbformat_minor": 2
}
