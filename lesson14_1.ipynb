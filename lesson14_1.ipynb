{
 "cells": [
  {
   "cell_type": "code",
   "execution_count": null,
   "metadata": {},
   "outputs": [],
   "source": [
    "import password\n",
    "import requests\n",
    "url = f\"https://data.moenv.gov.tw/api/v2/aqx_p_07?api_key={password.apikey}\"\n",
    "print(url)\n",
    "res = requests.get(url)\n",
    "\n",
    "if res.ok:\n",
    "    print(\"下載成功\")\n",
    "else:\n",
    "    print(\"下載失敗\")"
   ]
  },
  {
   "cell_type": "code",
   "execution_count": null,
   "metadata": {},
   "outputs": [],
   "source": [
    "print(res.text)"
   ]
  }
 ],
 "metadata": {
  "kernelspec": {
   "display_name": "Python 3.8.10 64-bit",
   "language": "python",
   "name": "python3"
  },
  "language_info": {
   "name": "python",
   "version": "3.8.10"
  },
  "orig_nbformat": 4,
  "vscode": {
   "interpreter": {
    "hash": "e3d7a99c6659919767506aac26bb427a8dc5420ef1b96f920d6f28b986bcd2be"
   }
  }
 },
 "nbformat": 4,
 "nbformat_minor": 2
}
