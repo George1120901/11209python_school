{
 "cells": [
  {
   "cell_type": "markdown",
   "metadata": {},
   "source": [
    "import random\n",
    "\n",
    "class Player:\n",
    "    def __init__(self):\n",
    "        pass\n",
    "\n",
    "    def __play() -> int:\n",
    "        pass\n",
    "\n",
    "    @property\n",
    "    def value(self) -> int:\n",
    "        #呼叫self.__play()\n",
    "        pass\n",
    "\n",
    "    def __repr__(self) -> str:\n",
    "        descript = \"\"\n",
    "        descript += \"徐國堂\\n\"\n",
    "        descript += \"骰子1=5\\n\"\n",
    "        descript += \"骰子2=3\\n\"\n",
    "        descript += \"骰子3=5\\n\"\n",
    "        descript += \"骰子4=5\\n\"\n",
    "        dsecript += \"得分=15分\"\n",
    "        return descript\n",
    "    \n",
    "if __name__ == \"__main__\":\n",
    "    p1 = Player(\"robert\")\n",
    "    print(p1.value)\n",
    "    print(p1)\n",
    "\n",
    "    p2 = Player(\"robert\")\n",
    "    print(p2.value)\n",
    "    print(p2)"
   ]
  },
  {
   "cell_type": "code",
   "execution_count": null,
   "metadata": {},
   "outputs": [],
   "source": [
    "import random\n",
    "\n",
    "class Player:\n",
    "    def __init__(self)(self,name:str,dice1:int,dice2:int,dice3:int,,dice4:int):\n",
    "        self.name = name\n",
    "        self.dice1 = dice1\n",
    "        self.dice2 = dice2\n",
    "        self.dice3 = dice3\n",
    "        self.dice4 = dice4\n",
    "    \n",
    "    def __play() -> int:\n",
    "        \n",
    "\n",
    "        \n",
    "        return self.__play\n",
    "    \n",
    "    "
   ]
  }
 ],
 "metadata": {
  "language_info": {
   "name": "python"
  },
  "orig_nbformat": 4
 },
 "nbformat": 4,
 "nbformat_minor": 2
}
