{
 "cells": [
  {
   "cell_type": "markdown",
   "metadata": {},
   "source": [
    "下載Youtube影片\n",
    "Pytube：Youtube影片下載"
   ]
  },
  {
   "cell_type": "code",
   "execution_count": 1,
   "metadata": {},
   "outputs": [
    {
     "name": "stdout",
     "output_type": "stream",
     "text": [
      "Requirement already satisfied: pytube in c:\\python3108\\lib\\site-packages (15.0.0)\n"
     ]
    },
    {
     "name": "stderr",
     "output_type": "stream",
     "text": [
      "\n",
      "[notice] A new release of pip is available: 23.2.1 -> 23.3.1\n",
      "[notice] To update, run: python.exe -m pip install --upgrade pip\n"
     ]
    }
   ],
   "source": [
    "# 安裝\n",
    "!pip install pytube"
   ]
  },
  {
   "cell_type": "code",
   "execution_count": 12,
   "metadata": {},
   "outputs": [
    {
     "name": "stdout",
     "output_type": "stream",
     "text": [
      "2023_12_11_下午\n",
      "11175\n",
      "徐國堂\n",
      "https://www.youtube.com/channel/UCKd_tuM8M79b1GAwAlTi9ZA\n",
      "https://i.ytimg.com/vi/xZvAN2TOV0Q/hq720.jpg?sqp=-oaymwEmCIAKENAF8quKqQMa8AEB-AH-CYAC0AWKAgwIABABGGUgUyhGMA8=&rs=AOn4CLDtFNJOZiYKY3f8DBWU744-drVNBQ\n",
      "9\n"
     ]
    },
    {
     "name": "stderr",
     "output_type": "stream",
     "text": [
      "C:\\Users\\User\\AppData\\Local\\Temp\\ipykernel_9032\\1274840393.py:16: DeprecationWarning: Call to deprecated function all (This object can be treated as a list, all() is useless).\n",
      "  print(yt.streams.all())  # 影片支援哪些畫質\n"
     ]
    },
    {
     "name": "stdout",
     "output_type": "stream",
     "text": [
      "[<Stream: itag=\"17\" mime_type=\"video/3gpp\" res=\"144p\" fps=\"8fps\" vcodec=\"mp4v.20.3\" acodec=\"mp4a.40.2\" progressive=\"True\" type=\"video\">, <Stream: itag=\"18\" mime_type=\"video/mp4\" res=\"360p\" fps=\"30fps\" vcodec=\"avc1.42001E\" acodec=\"mp4a.40.2\" progressive=\"True\" type=\"video\">, <Stream: itag=\"22\" mime_type=\"video/mp4\" res=\"720p\" fps=\"30fps\" vcodec=\"avc1.64001F\" acodec=\"mp4a.40.2\" progressive=\"True\" type=\"video\">, <Stream: itag=\"137\" mime_type=\"video/mp4\" res=\"1080p\" fps=\"30fps\" vcodec=\"avc1.640028\" progressive=\"False\" type=\"video\">, <Stream: itag=\"136\" mime_type=\"video/mp4\" res=\"720p\" fps=\"30fps\" vcodec=\"avc1.64001f\" progressive=\"False\" type=\"video\">, <Stream: itag=\"134\" mime_type=\"video/mp4\" res=\"360p\" fps=\"30fps\" vcodec=\"avc1.4d401e\" progressive=\"False\" type=\"video\">, <Stream: itag=\"160\" mime_type=\"video/mp4\" res=\"144p\" fps=\"30fps\" vcodec=\"avc1.4d400c\" progressive=\"False\" type=\"video\">, <Stream: itag=\"139\" mime_type=\"audio/mp4\" abr=\"48kbps\" acodec=\"mp4a.40.5\" progressive=\"False\" type=\"audio\">, <Stream: itag=\"140\" mime_type=\"audio/mp4\" abr=\"128kbps\" acodec=\"mp4a.40.2\" progressive=\"False\" type=\"audio\">, <Stream: itag=\"251\" mime_type=\"audio/webm\" abr=\"160kbps\" acodec=\"opus\" progressive=\"False\" type=\"audio\">]\n",
      "10\n",
      "<Stream: itag=\"17\" mime_type=\"video/3gpp\" res=\"144p\" fps=\"8fps\" vcodec=\"mp4v.20.3\" acodec=\"mp4a.40.2\" progressive=\"True\" type=\"video\">\n",
      "<Stream: itag=\"18\" mime_type=\"video/mp4\" res=\"360p\" fps=\"30fps\" vcodec=\"avc1.42001E\" acodec=\"mp4a.40.2\" progressive=\"True\" type=\"video\">\n",
      "<Stream: itag=\"22\" mime_type=\"video/mp4\" res=\"720p\" fps=\"30fps\" vcodec=\"avc1.64001F\" acodec=\"mp4a.40.2\" progressive=\"True\" type=\"video\">\n",
      "<Stream: itag=\"137\" mime_type=\"video/mp4\" res=\"1080p\" fps=\"30fps\" vcodec=\"avc1.640028\" progressive=\"False\" type=\"video\">\n",
      "<Stream: itag=\"136\" mime_type=\"video/mp4\" res=\"720p\" fps=\"30fps\" vcodec=\"avc1.64001f\" progressive=\"False\" type=\"video\">\n",
      "<Stream: itag=\"134\" mime_type=\"video/mp4\" res=\"360p\" fps=\"30fps\" vcodec=\"avc1.4d401e\" progressive=\"False\" type=\"video\">\n",
      "<Stream: itag=\"160\" mime_type=\"video/mp4\" res=\"144p\" fps=\"30fps\" vcodec=\"avc1.4d400c\" progressive=\"False\" type=\"video\">\n",
      "<Stream: itag=\"139\" mime_type=\"audio/mp4\" abr=\"48kbps\" acodec=\"mp4a.40.5\" progressive=\"False\" type=\"audio\">\n",
      "<Stream: itag=\"140\" mime_type=\"audio/mp4\" abr=\"128kbps\" acodec=\"mp4a.40.2\" progressive=\"False\" type=\"audio\">\n",
      "<Stream: itag=\"251\" mime_type=\"audio/webm\" abr=\"160kbps\" acodec=\"opus\" progressive=\"False\" type=\"audio\">\n",
      "downdload完成\n"
     ]
    }
   ],
   "source": [
    "# 使用模組\n",
    "from pytube import YouTube\n",
    "\n",
    "yt = YouTube('https://youtube.com/live/xZvAN2TOV0Q')\n",
    "\n",
    "# 影片格式分析\n",
    "print(yt.title)           # 影片標題\n",
    "print(yt.length)          # 影片長度 ( 秒 )\n",
    "print(yt.author)          # 影片作者\n",
    "print(yt.channel_url)     # 影片作者頻道網址\n",
    "print(yt.thumbnail_url)   # 影片縮圖網址\n",
    "print(yt.views)           # 影片觀看數\n",
    "\n",
    "# 分析\n",
    "# print(yt.streams)\n",
    "print(yt.streams.all())  # 影片支援哪些畫質\n",
    "print(len(yt.streams))\n",
    "for st in yt.streams:\n",
    "  print(st)\n",
    "\n",
    "# 下載影片\n",
    "filter = yt.streams.filter\n",
    "target = filter(type=\"video\", resolution=\"1080p\").first()\n",
    "target.download(output_path='C:/Users/User/Documents/youtube')\n",
    "\n",
    "yt.streams.filter().get_highest_resolution().download(output_path='C:/Users/User/Documents/youtube', filename='python_231212P-1.mp4')\n",
    "\n",
    "print('downdload完成')"
   ]
  },
  {
   "cell_type": "code",
   "execution_count": 11,
   "metadata": {},
   "outputs": [
    {
     "name": "stdout",
     "output_type": "stream",
     "text": [
      "2023_12_11_下午\n",
      "11175\n",
      "徐國堂\n",
      "https://www.youtube.com/channel/UCKd_tuM8M79b1GAwAlTi9ZA\n",
      "https://i.ytimg.com/vi/xZvAN2TOV0Q/hq720.jpg?sqp=-oaymwEmCIAKENAF8quKqQMa8AEB-AH-CYAC0AWKAgwIABABGGUgUyhGMA8=&rs=AOn4CLDtFNJOZiYKY3f8DBWU744-drVNBQ\n",
      "9\n"
     ]
    },
    {
     "name": "stderr",
     "output_type": "stream",
     "text": [
      "C:\\Users\\User\\AppData\\Local\\Temp\\ipykernel_9032\\244155700.py:15: DeprecationWarning: Call to deprecated function all (This object can be treated as a list, all() is useless).\n",
      "  print(yt.streams.all())  # 影片支援哪些畫質\n"
     ]
    },
    {
     "name": "stdout",
     "output_type": "stream",
     "text": [
      "[<Stream: itag=\"17\" mime_type=\"video/3gpp\" res=\"144p\" fps=\"8fps\" vcodec=\"mp4v.20.3\" acodec=\"mp4a.40.2\" progressive=\"True\" type=\"video\">, <Stream: itag=\"18\" mime_type=\"video/mp4\" res=\"360p\" fps=\"30fps\" vcodec=\"avc1.42001E\" acodec=\"mp4a.40.2\" progressive=\"True\" type=\"video\">, <Stream: itag=\"22\" mime_type=\"video/mp4\" res=\"720p\" fps=\"30fps\" vcodec=\"avc1.64001F\" acodec=\"mp4a.40.2\" progressive=\"True\" type=\"video\">, <Stream: itag=\"137\" mime_type=\"video/mp4\" res=\"1080p\" fps=\"30fps\" vcodec=\"avc1.640028\" progressive=\"False\" type=\"video\">, <Stream: itag=\"136\" mime_type=\"video/mp4\" res=\"720p\" fps=\"30fps\" vcodec=\"avc1.64001f\" progressive=\"False\" type=\"video\">, <Stream: itag=\"134\" mime_type=\"video/mp4\" res=\"360p\" fps=\"30fps\" vcodec=\"avc1.4d401e\" progressive=\"False\" type=\"video\">, <Stream: itag=\"160\" mime_type=\"video/mp4\" res=\"144p\" fps=\"30fps\" vcodec=\"avc1.4d400c\" progressive=\"False\" type=\"video\">, <Stream: itag=\"139\" mime_type=\"audio/mp4\" abr=\"48kbps\" acodec=\"mp4a.40.5\" progressive=\"False\" type=\"audio\">, <Stream: itag=\"140\" mime_type=\"audio/mp4\" abr=\"128kbps\" acodec=\"mp4a.40.2\" progressive=\"False\" type=\"audio\">, <Stream: itag=\"251\" mime_type=\"audio/webm\" abr=\"160kbps\" acodec=\"opus\" progressive=\"False\" type=\"audio\">]\n",
      "10\n",
      "<Stream: itag=\"17\" mime_type=\"video/3gpp\" res=\"144p\" fps=\"8fps\" vcodec=\"mp4v.20.3\" acodec=\"mp4a.40.2\" progressive=\"True\" type=\"video\">\n",
      "<Stream: itag=\"18\" mime_type=\"video/mp4\" res=\"360p\" fps=\"30fps\" vcodec=\"avc1.42001E\" acodec=\"mp4a.40.2\" progressive=\"True\" type=\"video\">\n",
      "<Stream: itag=\"22\" mime_type=\"video/mp4\" res=\"720p\" fps=\"30fps\" vcodec=\"avc1.64001F\" acodec=\"mp4a.40.2\" progressive=\"True\" type=\"video\">\n",
      "<Stream: itag=\"137\" mime_type=\"video/mp4\" res=\"1080p\" fps=\"30fps\" vcodec=\"avc1.640028\" progressive=\"False\" type=\"video\">\n",
      "<Stream: itag=\"136\" mime_type=\"video/mp4\" res=\"720p\" fps=\"30fps\" vcodec=\"avc1.64001f\" progressive=\"False\" type=\"video\">\n",
      "<Stream: itag=\"134\" mime_type=\"video/mp4\" res=\"360p\" fps=\"30fps\" vcodec=\"avc1.4d401e\" progressive=\"False\" type=\"video\">\n",
      "<Stream: itag=\"160\" mime_type=\"video/mp4\" res=\"144p\" fps=\"30fps\" vcodec=\"avc1.4d400c\" progressive=\"False\" type=\"video\">\n",
      "<Stream: itag=\"139\" mime_type=\"audio/mp4\" abr=\"48kbps\" acodec=\"mp4a.40.5\" progressive=\"False\" type=\"audio\">\n",
      "<Stream: itag=\"140\" mime_type=\"audio/mp4\" abr=\"128kbps\" acodec=\"mp4a.40.2\" progressive=\"False\" type=\"audio\">\n",
      "<Stream: itag=\"251\" mime_type=\"audio/webm\" abr=\"160kbps\" acodec=\"opus\" progressive=\"False\" type=\"audio\">\n",
      "downdload完成\n"
     ]
    }
   ],
   "source": [
    "# 使用模組\n",
    "from pytube import YouTube\n",
    "# yt = YouTube('https://www.youtube.com/watch?v=27ob2G3GUCQ')\n",
    "yt = YouTube('https://youtube.com/live/xZvAN2TOV0Q')\n",
    "\n",
    "# 影片格式分析\n",
    "print(yt.title)           # 影片標題\n",
    "print(yt.length)          # 影片長度 ( 秒 )\n",
    "print(yt.author)          # 影片作者\n",
    "print(yt.channel_url)     # 影片作者頻道網址\n",
    "print(yt.thumbnail_url)   # 影片縮圖網址\n",
    "print(yt.views)           # 影片觀看數\n",
    "# 分析\n",
    "# print(yt.streams)\n",
    "print(yt.streams.all())  # 影片支援哪些畫質\n",
    "print(len(yt.streams))\n",
    "for st in yt.streams:\n",
    "  print(st)\n",
    "\n",
    "# 下載第1個影片\n",
    "yt.streams.filter().get_highest_resolution().download(output_path='C:/Users/User/Documents/youtube',filename='python_2311212P.mp4')\n",
    "#yt.streams.get_by_itag(137).download(output_path='C:/Users/User/Documents/youtube', filename='python_230920P.mp4')\n",
    "#yt.streams.filter().get_by_resolution('1080p').download(output_path='C:/Users/User/Documents/youtube', filename='python_230911P-1.mp4')\n",
    "# yt.streams.filter().get_by_resolution('360p').download(filename='oxxostudio_360p.mp4')\n",
    "# 下載 480p 的影片畫質\n",
    "print('downdload完成')\n",
    "#yt.streams[0].download('python')"
   ]
  },
  {
   "cell_type": "markdown",
   "metadata": {},
   "source": [
    "下載 Youtube 影片為 mp3 \n",
    "使用 get_audio_only() 方法，能單獨取出 Youtube 的音軌儲存為 mp3 檔案 ( 預設為 mp4，存檔時改檔名為 mp3 就會變成 mp3 )"
   ]
  },
  {
   "cell_type": "markdown",
   "metadata": {},
   "source": [
    "Test file"
   ]
  },
  {
   "cell_type": "code",
   "execution_count": 3,
   "metadata": {},
   "outputs": [
    {
     "name": "stdout",
     "output_type": "stream",
     "text": [
      "10\n",
      "<Stream: itag=\"17\" mime_type=\"video/3gpp\" res=\"144p\" fps=\"8fps\" vcodec=\"mp4v.20.3\" acodec=\"mp4a.40.2\" progressive=\"True\" type=\"video\">\n",
      "<Stream: itag=\"18\" mime_type=\"video/mp4\" res=\"360p\" fps=\"30fps\" vcodec=\"avc1.42001E\" acodec=\"mp4a.40.2\" progressive=\"True\" type=\"video\">\n",
      "<Stream: itag=\"22\" mime_type=\"video/mp4\" res=\"720p\" fps=\"30fps\" vcodec=\"avc1.64001F\" acodec=\"mp4a.40.2\" progressive=\"True\" type=\"video\">\n",
      "<Stream: itag=\"137\" mime_type=\"video/mp4\" res=\"1080p\" fps=\"30fps\" vcodec=\"avc1.640028\" progressive=\"False\" type=\"video\">\n",
      "<Stream: itag=\"136\" mime_type=\"video/mp4\" res=\"720p\" fps=\"30fps\" vcodec=\"avc1.64001f\" progressive=\"False\" type=\"video\">\n",
      "<Stream: itag=\"134\" mime_type=\"video/mp4\" res=\"360p\" fps=\"30fps\" vcodec=\"avc1.4d401e\" progressive=\"False\" type=\"video\">\n",
      "<Stream: itag=\"160\" mime_type=\"video/mp4\" res=\"144p\" fps=\"30fps\" vcodec=\"avc1.4d400c\" progressive=\"False\" type=\"video\">\n",
      "<Stream: itag=\"139\" mime_type=\"audio/mp4\" abr=\"48kbps\" acodec=\"mp4a.40.5\" progressive=\"False\" type=\"audio\">\n",
      "<Stream: itag=\"140\" mime_type=\"audio/mp4\" abr=\"128kbps\" acodec=\"mp4a.40.2\" progressive=\"False\" type=\"audio\">\n",
      "<Stream: itag=\"251\" mime_type=\"audio/webm\" abr=\"160kbps\" acodec=\"opus\" progressive=\"False\" type=\"audio\">\n",
      "========================\n"
     ]
    },
    {
     "data": {
      "text/plain": [
       "'C:/Users/User/Documents/youtube\\\\python_2311206A-1.mp4'"
      ]
     },
     "execution_count": 3,
     "metadata": {},
     "output_type": "execute_result"
    }
   ],
   "source": [
    "from pytube import YouTube\n",
    "\n",
    "yt = YouTube('https://youtube.com/live/EQPFUM9ONCQ')\n",
    "#yt.streams\n",
    "print(len(yt.streams))\n",
    "for st in yt.streams:\n",
    "  print(st)\n",
    "print(\"========================\")\n",
    "#print(yt.streams)\n",
    "yt.streams.filter(adaptive=True)\n",
    "\n",
    "stream = yt.streams.get_by_itag(ITAG)\n",
    "stream.download(output_path='C:/Users/User/Documents/youtube', filename='python_2311206A-1.mp4')"
   ]
  },
  {
   "cell_type": "code",
   "execution_count": null,
   "metadata": {},
   "outputs": [],
   "source": [
    "from pytube import YouTube\n",
    "YouTube('https://youtu.be/2lAe1cqCOXo').streams.first().download()\n",
    "yt = YouTube('http://youtube.com/watch?v=2lAe1cqCOXo')\n",
    "yt.streams.filter(progressive=True, file_extension='mp4').order_by('resolution').desc().first().download()\n",
    "\n",
    "# 僅查詢MP4格式的串流：\n",
    "yt.streams.filter(file_extension='mp4')\n",
    "\n",
    "# 下載串流\n",
    "stream = yt.streams.get_by_itag(22)\n",
    "stream.download(output_path='C:/Users/User/Documents/youtube', filename='python_2311122P.mp4')"
   ]
  },
  {
   "cell_type": "code",
   "execution_count": null,
   "metadata": {},
   "outputs": [],
   "source": [
    "from pytube import YouTube\n",
    "yt = YouTube('https://www.youtube.com/watch?v=R93ce4FZGbc')\n",
    "print('download...')\n",
    "yt.streams.filter().get_audio_only().download(filename='oxxostudio.mp3')\n",
    "# 儲存為 mp3\n",
    "print('ok!')"
   ]
  },
  {
   "cell_type": "code",
   "execution_count": 2,
   "metadata": {},
   "outputs": [
    {
     "data": {
      "text/plain": [
       "'C:/Users/User/Documents/youtube\\\\python_2311206A.mp4'"
      ]
     },
     "execution_count": 2,
     "metadata": {},
     "output_type": "execute_result"
    }
   ],
   "source": [
    "from pytube import YouTube\n",
    "\n",
    "\n",
    "youtube_episode_id = 'EQPFUM9ONCQ'   # long\n",
    "\n",
    "yt = YouTube(f'https://www.youtube.com/watch?v={youtube_episode_id}')\n",
    "\n",
    "ITAG = 22\n",
    "\n",
    "stream = yt.streams.get_by_itag(ITAG)\n",
    "stream.download(output_path='C:/Users/User/Documents/youtube',filename='python_2311206A.mp4', skip_existing=True, max_retries=0)"
   ]
  },
  {
   "cell_type": "markdown",
   "metadata": {},
   "source": [
    "## 參考網站\n",
    "### https://swf.com.tw/?p=1402"
   ]
  },
  {
   "cell_type": "code",
   "execution_count": null,
   "metadata": {},
   "outputs": [],
   "source": [
    "# 原檔案(未修改)\n",
    "import argparse\n",
    "import os\n",
    "import platform\n",
    "from pytube import YouTube\n",
    "import subprocess\n",
    "\n",
    "args = {}\n",
    "fileobj = {}\n",
    "download_count = 1\n",
    "\n",
    "\n",
    "def pyTube_folder():\n",
    "    sys = platform.system()\n",
    "    home = os.path.expanduser('~')\n",
    "\n",
    "    if sys == 'Windows':\n",
    "        folder = os.path.join(home, 'Videos', 'PyTube')\n",
    "    elif sys == 'Darwin':\n",
    "        folder = os.path.join(home, 'Movies', 'PyTube')\n",
    "\n",
    "    if not os.path.isdir(folder):  # 若'PyTube'資料夾不存在…\n",
    "        os.mkdir(folder)        # 則新增資料夾\n",
    "\n",
    "    return folder\n",
    "\n",
    "\n",
    "def onProgress(stream, chunk, remains):\n",
    "    total = stream.filesize\n",
    "    percent = (total-remains) / total * 100\n",
    "    print('下載中… {:05.2f}%'.format(percent), end='\\r')\n",
    "\n",
    "# 列舉可用的解析度\n",
    "\n",
    "\n",
    "def video_res(yt):\n",
    "    res_set = set()\n",
    "    video_list = yt.streams.filter(type=\"video\")\n",
    "    for v in video_list:\n",
    "        res_set.add(v.resolution)\n",
    "\n",
    "    # 傳回解析度表列，例如：['720p', '480p', '360p', '240p', '144p']\n",
    "    return sorted(res_set, reverse=True, key=lambda s: int(s[:-1]))\n",
    "\n",
    "\n",
    "def download_media(args):\n",
    "    try:\n",
    "        yt = YouTube(args.url, on_progress_callback=onProgress,\n",
    "                     on_complete_callback=onComplete)\n",
    "    except:\n",
    "        print('下載影片時發生錯誤，請確認網路連線和YouTube網址無誤。')\n",
    "        return\n",
    "\n",
    "    filter = yt.streams.filter\n",
    "\n",
    "    if args.a:  # 只下載聲音\n",
    "        target = filter(type=\"audio\").first()\n",
    "    elif args.fhd:\n",
    "        target = filter(type=\"video\", resolution=\"1080p\").first()\n",
    "    elif args.hd:\n",
    "        target = filter(type=\"video\", resolution=\"720p\").first()\n",
    "    elif args.sd:\n",
    "        target = filter(type=\"video\", resolution=\"480p\").first()\n",
    "    else:\n",
    "        target = filter(type=\"video\").first()\n",
    "\n",
    "    if target is None:\n",
    "        print('沒有您指定的解析度，可用的解析度如下：')\n",
    "        res_list = video_res(yt)\n",
    "\n",
    "        for i, res in enumerate(res_list):\n",
    "            print('{}) {}'.format(i+1, res))\n",
    "\n",
    "        val = input('請選擇（預設{}）：'.format(res_list[0]))\n",
    "\n",
    "        try:\n",
    "            res = res_list[int(val)-1]\n",
    "        except:\n",
    "            res = res_list[0]\n",
    "\n",
    "        print('您選擇的是 {} 。'.format(res))\n",
    "        target = filter(type=\"video\", resolution=res).first()\n",
    "\n",
    "    # 開始下載\n",
    "    target.download(output_path=pyTube_folder())\n",
    "\n",
    "\n",
    "def check_media(filename):\n",
    "    # r = subprocess.Popen([\"ffprobe\", filename],\n",
    "    #                      stdout=subprocess.PIPE, stderr=subprocess.STDOUT)\n",
    "    # out, err = r.communicate()\n",
    "    # 上面的敘述可改寫成：\n",
    "    # out = subprocess.check_output([\"ffprobe\", filename])\n",
    "    # 或者：\n",
    "    out = subprocess.run([\"ffprobe\", filename],\n",
    "                         stdout=subprocess.PIPE, stderr=subprocess.STDOUT)\n",
    "    if (out.stdout.decode('utf-8').rfind('Audio') == -1):\n",
    "        return -1  # 沒有聲音\n",
    "    else:\n",
    "        return 1\n",
    "\n",
    "\n",
    "def merge_media():\n",
    "    temp_video = os.path.join(fileobj['dir'], 'temp_video.mp4')\n",
    "    temp_audio = os.path.join(fileobj['dir'], 'temp_audio.mp4')\n",
    "    temp_output = os.path.join(fileobj['dir'], 'output.mp4')\n",
    "\n",
    "    cmd = f'ffmpeg -i {temp_video} -i {temp_audio} \\\n",
    "        -map 0:v -map 1:a -c copy -y {temp_output}'\n",
    "    try:\n",
    "        subprocess.run(cmd, shell=True)\n",
    "        # 視訊檔重新命名\n",
    "        os.rename(temp_output, os.path.join(fileobj['dir'], fileobj['name']))\n",
    "        os.remove(temp_audio)\n",
    "        os.remove(temp_video)\n",
    "        print('視訊和聲音合併完成')\n",
    "    except:\n",
    "        print('視訊和聲音合併失敗')\n",
    "\n",
    "\n",
    "def onComplete(stream, file_path):\n",
    "    global download_count, fileobj\n",
    "    fileobj['name'] = os.path.basename(file_path)\n",
    "    fileobj['dir'] = os.path.dirname(file_path)\n",
    "    print('\\r')\n",
    "\n",
    "    if download_count == 1:\n",
    "        if check_media(file_path) == -1:\n",
    "            print('此影片沒有聲音')\n",
    "            download_count += 1\n",
    "            try:\n",
    "                # 視訊檔重新命名\n",
    "                os.rename(file_path, os.path.join(\n",
    "                    fileobj['dir'], 'temp_video.mp4'))\n",
    "            except:\n",
    "                print('視訊檔重新命名失敗')\n",
    "                return\n",
    "\n",
    "            print('準備下載聲音檔')\n",
    "            vars(args)['a'] = True  # 設定成a參數\n",
    "            download_media(args)    # 下載聲音\n",
    "        else:\n",
    "            print('此影片有聲音，下載完畢！')\n",
    "    else:\n",
    "        try:\n",
    "            # 聲音檔重新命名\n",
    "            os.rename(file_path, os.path.join(\n",
    "                fileobj['dir'], 'temp_audio.mp4'))\n",
    "        except:\n",
    "            print(\"聲音檔重新命名失敗\")\n",
    "        # 合併聲音檔\n",
    "        merge_media()\n",
    "\n",
    "\n",
    "def main():\n",
    "    global args\n",
    "    parser = argparse.ArgumentParser()\n",
    "    parser.add_argument(\"url\", help=\"指定YouTube視訊網址\")\n",
    "    parser.add_argument(\"-sd\", action=\"store_true\", help=\"選擇普通（480P）畫質\")\n",
    "    parser.add_argument(\"-hd\", action=\"store_true\", help=\"選擇HD（720P）畫質\")\n",
    "    parser.add_argument(\"-fhd\", action=\"store_true\", help=\"選擇Full HD（1080P）畫質\")\n",
    "    parser.add_argument(\"-a\", action=\"store_true\", help=\"僅下載聲音\")\n",
    "\n",
    "    args = parser.parse_args()\n",
    "    download_media(args)\n",
    "\n",
    "\n",
    "if __name__ == '__main__':\n",
    "    main()"
   ]
  }
 ],
 "metadata": {
  "kernelspec": {
   "display_name": "venv",
   "language": "python",
   "name": "python3"
  },
  "language_info": {
   "codemirror_mode": {
    "name": "ipython",
    "version": 3
   },
   "file_extension": ".py",
   "mimetype": "text/x-python",
   "name": "python",
   "nbconvert_exporter": "python",
   "pygments_lexer": "ipython3",
   "version": "3.10.8"
  }
 },
 "nbformat": 4,
 "nbformat_minor": 2
}
