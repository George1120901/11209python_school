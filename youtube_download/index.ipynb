{
 "cells": [
  {
   "cell_type": "markdown",
   "metadata": {},
   "source": [
    "下載Youtube影片\n",
    "Pytube：Youtube影片下載"
   ]
  },
  {
   "cell_type": "code",
   "execution_count": null,
   "metadata": {},
   "outputs": [],
   "source": [
    "# 安裝\n",
    "!pip install pytube"
   ]
  },
  {
   "cell_type": "code",
   "execution_count": null,
   "metadata": {},
   "outputs": [],
   "source": [
    "# 使用模組\n",
    "from pytube import YouTube\n",
    "# yt = YouTube('https://www.youtube.com/watch?v=27ob2G3GUCQ')\n",
    "yt = YouTube('https://youtube.com/live/UM9AyBoBeSw')\n",
    "\n",
    "# 影片格式分析\n",
    "print(yt.title)           # 影片標題\n",
    "print(yt.length)          # 影片長度 ( 秒 )\n",
    "print(yt.author)          # 影片作者\n",
    "print(yt.channel_url)     # 影片作者頻道網址\n",
    "print(yt.thumbnail_url)   # 影片縮圖網址\n",
    "print(yt.views)           # 影片觀看數\n",
    "# 分析\n",
    "# print(yt.streams)\n",
    "print(yt.streams.all())  # 影片支援哪些畫質\n",
    "print(len(yt.streams))\n",
    "for st in yt.streams:\n",
    "  print(st)\n",
    "\n",
    "# 下載第1個影片\n",
    "yt.streams.filter().get_highest_resolution().download(filename='baby_shart.mp4')\n",
    "# yt.streams.filter().get_by_resolution('1080p').download(filename='oxxostudio_360p.mp4')\n",
    "# 下載 480p 的影片畫質\n",
    "\n",
    "yt.streams[0].download('python')"
   ]
  },
  {
   "cell_type": "markdown",
   "metadata": {},
   "source": [
    "下載 Youtube 影片為 mp3 \n",
    "使用 get_audio_only() 方法，能單獨取出 Youtube 的音軌儲存為 mp3 檔案 ( 預設為 mp4，存檔時改檔名為 mp3 就會變成 mp3 )"
   ]
  },
  {
   "cell_type": "code",
   "execution_count": null,
   "metadata": {},
   "outputs": [],
   "source": [
    "from pytube import YouTube\n",
    "yt = YouTube('https://www.youtube.com/watch?v=R93ce4FZGbc')\n",
    "print('download...')\n",
    "yt.streams.filter().get_audio_only().download(filename='oxxostudio.mp3')\n",
    "# 儲存為 mp3\n",
    "print('ok!')"
   ]
  }
 ],
 "metadata": {
  "language_info": {
   "name": "python"
  }
 },
 "nbformat": 4,
 "nbformat_minor": 2
}
