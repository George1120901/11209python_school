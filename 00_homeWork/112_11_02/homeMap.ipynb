{
 "cells": [
  {
   "cell_type": "code",
   "execution_count": 3,
   "metadata": {},
   "outputs": [
    {
     "ename": "ModuleNotFoundError",
     "evalue": "No module named 'tkinterm'",
     "output_type": "error",
     "traceback": [
      "\u001b[1;31m---------------------------------------------------------------------------\u001b[0m",
      "\u001b[1;31mModuleNotFoundError\u001b[0m                       Traceback (most recent call last)",
      "\u001b[1;32mc:\\Users\\User\\Documents\\GitHub\\__11209python_school__\\00_homeWork\\112_11_02\\homeMap.ipynb 儲存格 1\u001b[0m line \u001b[0;36m2\n\u001b[0;32m      <a href='vscode-notebook-cell:/c%3A/Users/User/Documents/GitHub/__11209python_school__/00_homeWork/112_11_02/homeMap.ipynb#W0sZmlsZQ%3D%3D?line=0'>1</a>\u001b[0m \u001b[39mimport\u001b[39;00m \u001b[39mtkinter\u001b[39;00m \u001b[39mas\u001b[39;00m \u001b[39mtk\u001b[39;00m\n\u001b[1;32m----> <a href='vscode-notebook-cell:/c%3A/Users/User/Documents/GitHub/__11209python_school__/00_homeWork/112_11_02/homeMap.ipynb#W0sZmlsZQ%3D%3D?line=1'>2</a>\u001b[0m \u001b[39mimport\u001b[39;00m \u001b[39mtkinterm\u001b[39;00m\n\u001b[0;32m      <a href='vscode-notebook-cell:/c%3A/Users/User/Documents/GitHub/__11209python_school__/00_homeWork/112_11_02/homeMap.ipynb#W0sZmlsZQ%3D%3D?line=2'>3</a>\u001b[0m \u001b[39mimport\u001b[39;00m \u001b[39mtkintermapview\u001b[39;00m \u001b[39mas\u001b[39;00m \u001b[39mtkmap\u001b[39;00m\n\u001b[0;32m      <a href='vscode-notebook-cell:/c%3A/Users/User/Documents/GitHub/__11209python_school__/00_homeWork/112_11_02/homeMap.ipynb#W0sZmlsZQ%3D%3D?line=4'>5</a>\u001b[0m \u001b[39mclass\u001b[39;00m \u001b[39mWindow\u001b[39;00m(tk\u001b[39m.\u001b[39mTk):\n",
      "\u001b[1;31mModuleNotFoundError\u001b[0m: No module named 'tkinterm'"
     ]
    }
   ],
   "source": [
    "import tkinter as tk\n",
    "import tkintermapview as tkmap\n",
    "\n",
    "class Window(tk.Tk):\n",
    "    def __init__(self):\n",
    "        super().__init__()\n",
    "        #建立地圖\n",
    "        map_widget = tkmap.TkinterMapView(self,\n",
    "                                          width=800,\n",
    "                                          height=600,\n",
    "                                          corner_radius=0\n",
    "                                          )\n",
    "        map_widget.place(relx=0.5, rely=0.5, anchor=tk.CENTER)\n",
    "        map_widget.set_position(25.023276715934866, 121.5484253061574) #台北市位置\n",
    "        map_widget.set_zoom(15) #設定顯示大小\n",
    "\n",
    "\n",
    "if __name__ == \"__main__\":\n",
    "    window = Window()\n",
    "    window.geometry(\"800x600\")\n",
    "    window.title(\"地圖\")\n",
    "    window.mainloop()"
   ]
  }
 ],
 "metadata": {
  "kernelspec": {
   "display_name": "venv",
   "language": "python",
   "name": "python3"
  },
  "language_info": {
   "codemirror_mode": {
    "name": "ipython",
    "version": 3
   },
   "file_extension": ".py",
   "mimetype": "text/x-python",
   "name": "python",
   "nbconvert_exporter": "python",
   "pygments_lexer": "ipython3",
   "version": "3.10.8"
  }
 },
 "nbformat": 4,
 "nbformat_minor": 2
}
