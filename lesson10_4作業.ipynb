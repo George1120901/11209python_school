{
 "cells": [
  {
   "cell_type": "code",
   "execution_count": 1,
   "metadata": {},
   "outputs": [
    {
     "name": "stdout",
     "output_type": "stream",
     "text": [
      "5 6 6 3\n"
     ]
    }
   ],
   "source": [
    "#  擲骰子遊戲\n",
    "\n",
    "import random\n",
    "import pyinputplus as pyip\n",
    "\n",
    "#while True:\n",
    "min = 1\n",
    "max = 6\n",
    "count = 0\n",
    "dice1 = random.randint(min, max)\n",
    "dice2 = random.randint(min, max)\n",
    "dice3 = random.randint(min, max)\n",
    "dice4 = random.randint(min, max)\n",
    "print(dice1,dice2,dice3,dice4)\n",
    "count=1\n",
    "while(True): \n",
    "    if dice1!=dice2:\n",
    "       if dice3==dice4:\n",
    "            scores=dice3+dice4\n",
    "            print(f\"得得分:{scores}\")\n",
    "\n",
    "    elif dice1!=dice3:\n",
    "      pass\n",
    "    elif dice1!=dice4:\n",
    "      pass\n",
    "    else:\n",
    "      answer = pyip.inputYesNo(prompt=\"還要繼續嗎?(y,n)\",yesVal='y',noVal='n')\n",
    "      if not (answer == 'y'):\n",
    "          break\n",
    "print(\"遊戲結束\")"
   ]
  }
 ],
 "metadata": {
  "kernelspec": {
   "display_name": ".venv",
   "language": "python",
   "name": "python3"
  },
  "language_info": {
   "codemirror_mode": {
    "name": "ipython",
    "version": 3
   },
   "file_extension": ".py",
   "mimetype": "text/x-python",
   "name": "python",
   "nbconvert_exporter": "python",
   "pygments_lexer": "ipython3",
   "version": "3.10.8"
  },
  "orig_nbformat": 4
 },
 "nbformat": 4,
 "nbformat_minor": 2
}
