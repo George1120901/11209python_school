{
 "cells": [
  {
   "cell_type": "code",
   "execution_count": 1,
   "metadata": {},
   "outputs": [
    {
     "name": "stdout",
     "output_type": "stream",
     "text": [
      "5 6 6 3\n"
     ]
    }
   ],
   "source": [
    "#  擲骰子遊戲\n",
    "\n",
    "import random\n",
    "import pyinputplus as pyip\n",
    "\n",
    "#while True:\n",
    "min = 1\n",
    "max = 6\n",
    "count = 0\n",
    "dice1 = random.randint(min, max)\n",
    "dice2 = random.randint(min, max)\n",
    "dice3 = random.randint(min, max)\n",
    "dice4 = random.randint(min, max)\n",
    "print(dice1,dice2,dice3,dice4)\n",
    "count=1\n",
    "while(True): \n",
    "    if dice1!=dice2:\n",
    "       if dice3==dice4:\n",
    "            scores=dice3+dice4\n",
    "            print(f\"得得分:{scores}\")\n",
    "\n",
    "    elif dice1!=dice3:\n",
    "      pass\n",
    "    elif dice1!=dice4:\n",
    "      pass\n",
    "    else:\n",
    "      answer = pyip.inputYesNo(prompt=\"還要繼續嗎?(y,n)\",yesVal='y',noVal='n')\n",
    "      if not (answer == 'y'):\n",
    "          break\n",
    "print(\"遊戲結束\")"
   ]
  },
  {
   "cell_type": "code",
   "execution_count": 1,
   "metadata": {},
   "outputs": [
    {
     "name": "stdout",
     "output_type": "stream",
     "text": [
      "6 2 3 6\n"
     ]
    },
    {
     "ename": "KeyboardInterrupt",
     "evalue": "",
     "output_type": "error",
     "traceback": [
      "\u001b[1;31m---------------------------------------------------------------------------\u001b[0m",
      "\u001b[1;31mKeyboardInterrupt\u001b[0m                         Traceback (most recent call last)",
      "\u001b[1;32mc:\\Users\\User\\Documents\\GitHub\\__11209python_school__\\lesson10_4作業.ipynb 儲存格 2\u001b[0m line \u001b[0;36m1\n\u001b[0;32m     <a href='vscode-notebook-cell:/c%3A/Users/User/Documents/GitHub/__11209python_school__/lesson10_4%E4%BD%9C%E6%A5%AD.ipynb#W1sZmlsZQ%3D%3D?line=13'>14</a>\u001b[0m \u001b[39mprint\u001b[39m(dice1,dice2,dice3,dice4)\n\u001b[0;32m     <a href='vscode-notebook-cell:/c%3A/Users/User/Documents/GitHub/__11209python_school__/lesson10_4%E4%BD%9C%E6%A5%AD.ipynb#W1sZmlsZQ%3D%3D?line=14'>15</a>\u001b[0m count\u001b[39m=\u001b[39m\u001b[39m1\u001b[39m\n\u001b[1;32m---> <a href='vscode-notebook-cell:/c%3A/Users/User/Documents/GitHub/__11209python_school__/lesson10_4%E4%BD%9C%E6%A5%AD.ipynb#W1sZmlsZQ%3D%3D?line=15'>16</a>\u001b[0m \u001b[39mwhile\u001b[39;00m(\u001b[39mTrue\u001b[39;00m): \n\u001b[0;32m     <a href='vscode-notebook-cell:/c%3A/Users/User/Documents/GitHub/__11209python_school__/lesson10_4%E4%BD%9C%E6%A5%AD.ipynb#W1sZmlsZQ%3D%3D?line=16'>17</a>\u001b[0m     \u001b[39mif\u001b[39;00m dice1\u001b[39m!=\u001b[39mdice2:\n\u001b[0;32m     <a href='vscode-notebook-cell:/c%3A/Users/User/Documents/GitHub/__11209python_school__/lesson10_4%E4%BD%9C%E6%A5%AD.ipynb#W1sZmlsZQ%3D%3D?line=17'>18</a>\u001b[0m        \u001b[39mif\u001b[39;00m dice3\u001b[39m==\u001b[39mdice4:\n",
      "\u001b[1;31mKeyboardInterrupt\u001b[0m: "
     ]
    }
   ],
   "source": [
    "#  擲骰子遊戲\n",
    "\n",
    "import random\n",
    "import pyinputplus as pyip\n",
    "\n",
    "#while True:\n",
    "min = 1\n",
    "max = 6\n",
    "while(True): \n",
    "  count = 0\n",
    "  dice1 = random.randint(min, max)\n",
    "  dice2 = random.randint(min, max)\n",
    "  dice3 = random.randint(min, max)\n",
    "  dice4 = random.randint(min, max)\n",
    "  print(dice1,dice2,dice3,dice4)\n",
    "  count=1\n",
    "\n",
    "  if dice1==dice2==dice3==dice4:\n",
    "    print(f\"丟出天王:{dice1},{dice2},{dice3},{dice4}\")\n",
    "  elif dice1!=dice2!=dice3!=dice4:\n",
    "    print(f\"骰子都不同:{dice1},{dice2},{dice3},{dice4}->再擲\")\n",
    "    continue      \n",
    "  elif dice1!=dice3:\n",
    "    pass\n",
    "  elif dice1!=dice4:\n",
    "    pass\n",
    "  else:\n",
    "    answer = pyip.inputYesNo(prompt=\"還要繼續嗎?(y,n)\",yesVal='y',noVal='n')\n",
    "    if not (answer == 'y'):\n",
    "        break\n",
    "print(\"遊戲結束\")"
   ]
  },
  {
   "cell_type": "code",
   "execution_count": 2,
   "metadata": {},
   "outputs": [
    {
     "data": {
      "text/plain": [
       "1"
      ]
     },
     "execution_count": 2,
     "metadata": {},
     "output_type": "execute_result"
    }
   ],
   "source": [
    "int(bool(2>1))"
   ]
  }
 ],
 "metadata": {
  "kernelspec": {
   "display_name": ".venv",
   "language": "python",
   "name": "python3"
  },
  "language_info": {
   "codemirror_mode": {
    "name": "ipython",
    "version": 3
   },
   "file_extension": ".py",
   "mimetype": "text/x-python",
   "name": "python",
   "nbconvert_exporter": "python",
   "pygments_lexer": "ipython3",
   "version": "3.10.8"
  },
  "orig_nbformat": 4
 },
 "nbformat": 4,
 "nbformat_minor": 2
}
